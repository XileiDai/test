{
 "cells": [
  {
   "cell_type": "markdown",
   "metadata": {},
   "source": [
    "# 🤗 Get Started\n",
    "\n",
    "Before you start:\n",
    "- Make sure you have the following packages installed via `pip`:\n",
    "    - `energyplus-ooep`\n",
    "    - `energyplus-dataset`\n",
    "\n",
    "What you will learn in this chapter:\n",
    "- How to _configure_ and _run_ a simulator.\n",
    "- How to _add progress report_ to a running simulator."
   ]
  },
  {
   "cell_type": "markdown",
   "metadata": {},
   "source": [
    "## 🧳 Prepare"
   ]
  },
  {
   "cell_type": "markdown",
   "metadata": {},
   "source": [
    "Import `energyplus.ooep` into your program. Here, it's imported as `_ooep_`."
   ]
  },
  {
   "cell_type": "code",
   "execution_count": 1,
   "metadata": {},
   "outputs": [],
   "source": [
    "import energyplus.ooep as _ooep_"
   ]
  },
  {
   "cell_type": "markdown",
   "metadata": {},
   "source": [
    "Import `energyplus.dataset`.\n",
    "This will be used later to run the simulation as it contains relevant model and weather files."
   ]
  },
  {
   "cell_type": "code",
   "execution_count": 2,
   "metadata": {},
   "outputs": [],
   "source": [
    "from energyplus.dataset.basic import dataset as _epds_"
   ]
  },
  {
   "cell_type": "markdown",
   "metadata": {},
   "source": [
    "## 🛠️ Configure"
   ]
  },
  {
   "cell_type": "markdown",
   "metadata": {},
   "source": [
    "Create a simulator and configure it!"
   ]
  },
  {
   "cell_type": "code",
   "execution_count": 3,
   "metadata": {},
   "outputs": [],
   "source": [
    "simulator = _ooep_.Simulator()"
   ]
  },
  {
   "cell_type": "markdown",
   "metadata": {},
   "source": [
    "## 💨 Run!"
   ]
  },
  {
   "cell_type": "markdown",
   "metadata": {},
   "source": [
    "Ready to go!\n",
    "\n",
    "But wait... Not so early!\n",
    "\n",
    "In order for a simulator to run, it needs to know its \n",
    "- Inputs: `_ooep_.Simulator.InputSpecs`\n",
    "- Expected outputs: `_ooep_.Simulator.OutputSpecs`\n",
    "- Expected runtime behavior: `_ooep_.Simulator.RuntimeOptions`\n",
    "\n",
    "For inputs, model and weather are the absolute mandatory, \n",
    "as they are the basis of a simulation environment.\n",
    "\n",
    "The rest is optional. So leave it for another time."
   ]
  },
  {
   "cell_type": "code",
   "execution_count": 4,
   "metadata": {},
   "outputs": [
    {
     "name": "stderr",
     "output_type": "stream",
     "text": [
      "INFO:<energyplus.ooep.engines.simulators.Simulator object at 0x7fce1841ad10>:Performing Zone Sizing Simulation\n",
      "INFO:<energyplus.ooep.engines.simulators.Simulator object at 0x7fce1841ad10>:...for Sizing Period: #1 DENVER-AURORA-BUCKLEY.AFB_CO_USA ANN HTG 99.6% CONDNS DB\n",
      "INFO:<energyplus.ooep.engines.simulators.Simulator object at 0x7fce1841ad10>:Performing Zone Sizing Simulation\n",
      "INFO:<energyplus.ooep.engines.simulators.Simulator object at 0x7fce1841ad10>:...for Sizing Period: #2 DENVER-AURORA-BUCKLEY.AFB_CO_USA ANN CLG .4% CONDNS DB=>MWB\n",
      "INFO:<energyplus.ooep.engines.simulators.Simulator object at 0x7fce1841ad10>:Calculating System sizing\n",
      "INFO:<energyplus.ooep.engines.simulators.Simulator object at 0x7fce1841ad10>:...for Sizing Period: #1 DENVER-AURORA-BUCKLEY.AFB_CO_USA ANN HTG 99.6% CONDNS DB\n",
      "INFO:<energyplus.ooep.engines.simulators.Simulator object at 0x7fce1841ad10>:Calculating System sizing\n",
      "INFO:<energyplus.ooep.engines.simulators.Simulator object at 0x7fce1841ad10>:...for Sizing Period: #2 DENVER-AURORA-BUCKLEY.AFB_CO_USA ANN CLG .4% CONDNS DB=>MWB\n",
      "INFO:<energyplus.ooep.engines.simulators.Simulator object at 0x7fce1841ad10>:Adjusting Air System Sizing\n",
      "INFO:<energyplus.ooep.engines.simulators.Simulator object at 0x7fce1841ad10>:Adjusting Standard 62.1 Ventilation Sizing\n",
      "INFO:<energyplus.ooep.engines.simulators.Simulator object at 0x7fce1841ad10>:Initializing Simulation\n",
      "INFO:<energyplus.ooep.engines.simulators.Simulator object at 0x7fce1841ad10>:Reporting Surfaces\n",
      "INFO:<energyplus.ooep.engines.simulators.Simulator object at 0x7fce1841ad10>:Beginning Primary Simulation\n",
      "INFO:<energyplus.ooep.engines.simulators.Simulator object at 0x7fce1841ad10>:Starting Simulation at 01/01/2017 for RUNPERIOD 1\n",
      "INFO:<energyplus.ooep.engines.simulators.Simulator object at 0x7fce1841ad10>:Updating Shadowing Calculations, Start Date=01/31/2017\n",
      "INFO:<energyplus.ooep.engines.simulators.Simulator object at 0x7fce1841ad10>:Updating Detailed Daylighting Factors, Start Date=01/31\n",
      "INFO:<energyplus.ooep.engines.simulators.Simulator object at 0x7fce1841ad10>:Initializing New Environment Parameters\n",
      "INFO:<energyplus.ooep.engines.simulators.Simulator object at 0x7fce1841ad10>:Starting Simulation at 04/01/2007 for RUNPERIOD 2\n",
      "INFO:<energyplus.ooep.engines.simulators.Simulator object at 0x7fce1841ad10>:Continuing Simulation at 04/01/2007 for RUNPERIOD 2\n",
      "INFO:<energyplus.ooep.engines.simulators.Simulator object at 0x7fce1841ad10>:Initializing New Environment Parameters\n",
      "INFO:<energyplus.ooep.engines.simulators.Simulator object at 0x7fce1841ad10>:Starting Simulation at 07/01/2007 for RUNPERIOD 3\n",
      "INFO:<energyplus.ooep.engines.simulators.Simulator object at 0x7fce1841ad10>:Updating Shadowing Calculations, Start Date=07/31/2007\n",
      "INFO:<energyplus.ooep.engines.simulators.Simulator object at 0x7fce1841ad10>:Updating Detailed Daylighting Factors, Start Date=07/31\n",
      "INFO:<energyplus.ooep.engines.simulators.Simulator object at 0x7fce1841ad10>:Writing tabular output file results using comma format.\n",
      "INFO:<energyplus.ooep.engines.simulators.Simulator object at 0x7fce1841ad10>:Writing tabular output file results using HTML format.\n",
      "INFO:<energyplus.ooep.engines.simulators.Simulator object at 0x7fce1841ad10>:EnergyPlus Run Time=00hr 00min 13.12sec\n"
     ]
    }
   ],
   "source": [
    "_ = simulator.awaitable.run(\n",
    "    input=_ooep_.Simulator.InputSpecs(\n",
    "        model=(\n",
    "            _epds_.models / 'ASHRAE901_OfficeLarge_STD2019_Denver_Chiller205_Detailed.idf'\n",
    "        ),\n",
    "        weather=(_epds_.weathers / 'USA_CO_Denver-Aurora-Buckley.AFB.724695_TMY3.epw'),\n",
    "    )\n",
    ")"
   ]
  },
  {
   "cell_type": "markdown",
   "metadata": {},
   "source": [
    "And that's it! Your simulation should run in the background.\n",
    "You may notice that there isn't any useful user feedback yet.\n",
    "So let's go ahead and spice it up.\n",
    "Yeehaw!"
   ]
  },
  {
   "cell_type": "markdown",
   "metadata": {},
   "source": [
    "## 👀 Observe"
   ]
  },
  {
   "cell_type": "markdown",
   "metadata": {},
   "source": [
    "### ⏱️ Progress Tracking"
   ]
  },
  {
   "cell_type": "markdown",
   "metadata": {},
   "source": [
    "Put a progress bar here so we can track the simulation progress in real time."
   ]
  },
  {
   "cell_type": "code",
   "execution_count": 5,
   "metadata": {},
   "outputs": [
    {
     "data": {
      "application/vnd.jupyter.widget-view+json": {
       "model_id": "b45020aa8c6e4f5ca0ecabd2f4620f14",
       "version_major": 2,
       "version_minor": 0
      },
      "text/plain": [
       "  0%|          | 0/100 [00:00<?, ?it/s]"
      ]
     },
     "metadata": {},
     "output_type": "display_data"
    }
   ],
   "source": [
    "from energyplus.ooep.addons.progress import ProgressProvider\n",
    "\n",
    "# add progress provider\n",
    "_ = simulator.add(ProgressProvider())"
   ]
  },
  {
   "cell_type": "markdown",
   "metadata": {},
   "source": [
    "### 📝 Logging"
   ]
  },
  {
   "cell_type": "markdown",
   "metadata": {},
   "source": [
    "Optionally, if progress bars aren't enough, there's also the good old standard text output.\n",
    "Activate it by adding a `LogProvider` instance to the `simulator` and setting the global log level\n",
    "to `INFO`."
   ]
  },
  {
   "cell_type": "code",
   "execution_count": 6,
   "metadata": {},
   "outputs": [],
   "source": [
    "import logging as _logging_\n",
    "from energyplus.ooep.addons.logging import LogProvider\n",
    "\n",
    "# configure the global log level\n",
    "_logging_.basicConfig(level='INFO')\n",
    "# add log provider\n",
    "_ = simulator.add(LogProvider())"
   ]
  },
  {
   "cell_type": "markdown",
   "metadata": {},
   "source": [
    "## 🤔 Reflect"
   ]
  },
  {
   "cell_type": "markdown",
   "metadata": {},
   "source": [
    "As you may have noticed, `LogProvider` and `ProgressProvider` are imported and added to the `simulator` as addons.\n",
    "\n",
    "Addons may be added at any point - either before you kick off the simulation or during. \n",
    "It's totally up to you and what works best for your setup! \n",
    "\n",
    "Just a heads-up, though: some addons need to be added right at the start to wake up properly. \n",
    "If you plug them in halfway through, you might not see their magic until the next round of your simulation.\n",
    "\n",
    "So what are addons? Learn more about addons here TODO!"
   ]
  }
 ],
 "metadata": {
  "kernelspec": {
   "display_name": ".venv",
   "language": "python",
   "name": "python3"
  },
  "language_info": {
   "codemirror_mode": {
    "name": "ipython",
    "version": 3
   },
   "file_extension": ".py",
   "mimetype": "text/x-python",
   "name": "python",
   "nbconvert_exporter": "python",
   "pygments_lexer": "ipython3",
   "version": "3.11.2"
  }
 },
 "nbformat": 4,
 "nbformat_minor": 2
}
