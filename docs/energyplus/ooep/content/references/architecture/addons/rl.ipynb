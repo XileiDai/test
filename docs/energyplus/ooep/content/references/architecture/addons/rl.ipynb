{
 "cells": [
  {
   "cell_type": "markdown",
   "metadata": {},
   "source": [
    "# Reinforcement Learning"
   ]
  },
  {
   "cell_type": "markdown",
   "metadata": {},
   "source": [
    "Internal Clock (Real-world/EnergyPlus/RLlib External Environment)\n",
    "\n",
    "```{mermaid}\n",
    "graph LR\n",
    "    subgraph simulator[Simulator]\n",
    "        control_unit[[Control Unit]]\n",
    "        clock((CLK)) --> control_unit\n",
    "    end\n",
    "\n",
    "    input[IN] ---> control_unit ---> output[OUT]\n",
    "```\n",
    "\n",
    "External Clock (Gym/Gymnasium Environment)\n",
    "\n",
    "```{mermaid}\n",
    "graph LR\n",
    "    subgraph simulator[Simulator]\n",
    "        control_unit[[Control Unit]]\n",
    "    end\n",
    "\n",
    "    clock((CLK)) --> control_unit\n",
    "    input[IN] ---> control_unit ---> output[OUT]\n",
    "\n",
    "```\n",
    "\n",
    "- IN: Input.\n",
    "- OUT: Output.\n",
    "- CLK: Clock. Controls when the state machine transitions to the next state. In a Gym/Gymnasium `Env`, this is implemented through a function called `step`."
   ]
  }
 ],
 "metadata": {
  "language_info": {
   "name": "python"
  }
 },
 "nbformat": 4,
 "nbformat_minor": 2
}
