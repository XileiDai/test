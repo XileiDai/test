{
 "cells": [
  {
   "cell_type": "code",
   "execution_count": 2,
   "metadata": {},
   "outputs": [
    {
     "data": {
      "application/vnd.jupyter.widget-view+json": {
       "model_id": "21990d631f9142a5ad5ec9cc070c1aad",
       "version_major": 2,
       "version_minor": 0
      },
      "text/plain": [
       "  0%|          | 0/100 [00:00<?, ?it/s]"
      ]
     },
     "metadata": {},
     "output_type": "display_data"
    }
   ],
   "source": [
    "import logging as _logging_\n",
    "_logging_.basicConfig(level='DEBUG')\n",
    "from energyplus.ooep.addons.logging import LogProvider\n",
    "\n",
    "from energyplus.ooep.addons.progress import ProgressProvider\n",
    "\n",
    "from energyplus.ooep import (\n",
    "    Simulator,\n",
    "    Model,\n",
    "    Weather,\n",
    "    Report,\n",
    ")\n",
    "\n",
    "from energyplus.dataset.basic import dataset as _epds_\n",
    "\n",
    "simulator = Simulator().add(\n",
    "    ProgressProvider(),\n",
    "    LogProvider(),\n",
    ")"
   ]
  },
  {
   "cell_type": "code",
   "execution_count": 3,
   "metadata": {},
   "outputs": [
    {
     "data": {
      "text/plain": [
       "<energyplus.ooep.components.events.EventManager at 0x7f6b39666e50>"
      ]
     },
     "execution_count": 3,
     "metadata": {},
     "output_type": "execute_result"
    }
   ],
   "source": [
    "def handler_with_exception(event):\n",
    "    raise Exception('test')\n",
    "simulator.events.on('begin_new_environment', handler_with_exception)"
   ]
  },
  {
   "cell_type": "code",
   "execution_count": null,
   "metadata": {},
   "outputs": [
    {
     "data": {
      "text/plain": [
       "<Task pending name='Task-6' coro=<Engine.run() running at /home/user@AD/lab/EnergyPlus-OOEP/packages/energyplus/ooep/utils/awaitables.py:68>>"
      ]
     },
     "execution_count": 4,
     "metadata": {},
     "output_type": "execute_result"
    },
    {
     "name": "stderr",
     "output_type": "stream",
     "text": [
      "INFO:<energyplus.ooep.engines.simulators.Simulator object at 0x7f6b39666f50>:EnergyPlus Starting\n",
      "INFO:<energyplus.ooep.engines.simulators.Simulator object at 0x7f6b39666f50>:EnergyPlus, Version 23.2.0-7636e6b3e9, YMD=2024.04.10 03:51\n",
      "INFO:<energyplus.ooep.engines.simulators.Simulator object at 0x7f6b39666f50>:Performing Zone Sizing Simulation\n",
      "INFO:<energyplus.ooep.engines.simulators.Simulator object at 0x7f6b39666f50>:...for Sizing Period: #1 DENVER-AURORA-BUCKLEY.AFB_CO_USA ANN HTG 99.6% CONDNS DB\n",
      "INFO:<energyplus.ooep.engines.simulators.Simulator object at 0x7f6b39666f50>:Performing Zone Sizing Simulation\n",
      "INFO:<energyplus.ooep.engines.simulators.Simulator object at 0x7f6b39666f50>:...for Sizing Period: #2 DENVER-AURORA-BUCKLEY.AFB_CO_USA ANN CLG .4% CONDNS DB=>MWB\n",
      "INFO:<energyplus.ooep.engines.simulators.Simulator object at 0x7f6b39666f50>:Calculating System sizing\n",
      "INFO:<energyplus.ooep.engines.simulators.Simulator object at 0x7f6b39666f50>:...for Sizing Period: #1 DENVER-AURORA-BUCKLEY.AFB_CO_USA ANN HTG 99.6% CONDNS DB\n",
      "INFO:<energyplus.ooep.engines.simulators.Simulator object at 0x7f6b39666f50>:Calculating System sizing\n",
      "INFO:<energyplus.ooep.engines.simulators.Simulator object at 0x7f6b39666f50>:...for Sizing Period: #2 DENVER-AURORA-BUCKLEY.AFB_CO_USA ANN CLG .4% CONDNS DB=>MWB\n",
      "INFO:<energyplus.ooep.engines.simulators.Simulator object at 0x7f6b39666f50>:Adjusting Air System Sizing\n",
      "INFO:<energyplus.ooep.engines.simulators.Simulator object at 0x7f6b39666f50>:Adjusting Standard 62.1 Ventilation Sizing\n",
      "INFO:<energyplus.ooep.engines.simulators.Simulator object at 0x7f6b39666f50>:Initializing Simulation\n",
      "INFO:<energyplus.ooep.engines.simulators.Simulator object at 0x7f6b39666f50>:Reporting Surfaces\n",
      "INFO:<energyplus.ooep.engines.simulators.Simulator object at 0x7f6b39666f50>:Beginning Primary Simulation\n",
      "INFO:<energyplus.ooep.engines.simulators.Simulator object at 0x7f6b39666f50>:Starting Simulation at 01/01/2017 for RUNPERIOD 1\n",
      "INFO:<energyplus.ooep.engines.simulators.Simulator object at 0x7f6b39666f50>:Updating Shadowing Calculations, Start Date=01/31/2017\n",
      "INFO:<energyplus.ooep.engines.simulators.Simulator object at 0x7f6b39666f50>:Updating Detailed Daylighting Factors, Start Date=01/31\n",
      "INFO:<energyplus.ooep.engines.simulators.Simulator object at 0x7f6b39666f50>:Initializing New Environment Parameters\n",
      "INFO:<energyplus.ooep.engines.simulators.Simulator object at 0x7f6b39666f50>:Starting Simulation at 04/01/2007 for RUNPERIOD 2\n",
      "INFO:<energyplus.ooep.engines.simulators.Simulator object at 0x7f6b39666f50>:Continuing Simulation at 04/01/2007 for RUNPERIOD 2\n",
      "INFO:<energyplus.ooep.engines.simulators.Simulator object at 0x7f6b39666f50>:Initializing New Environment Parameters\n",
      "INFO:<energyplus.ooep.engines.simulators.Simulator object at 0x7f6b39666f50>:Starting Simulation at 07/01/2007 for RUNPERIOD 3\n",
      "INFO:<energyplus.ooep.engines.simulators.Simulator object at 0x7f6b39666f50>:Updating Shadowing Calculations, Start Date=07/31/2007\n",
      "INFO:<energyplus.ooep.engines.simulators.Simulator object at 0x7f6b39666f50>:Updating Detailed Daylighting Factors, Start Date=07/31\n",
      "INFO:<energyplus.ooep.engines.simulators.Simulator object at 0x7f6b39666f50>:Writing tabular output file results using comma format.\n",
      "INFO:<energyplus.ooep.engines.simulators.Simulator object at 0x7f6b39666f50>:Writing tabular output file results using HTML format.\n",
      "INFO:<energyplus.ooep.engines.simulators.Simulator object at 0x7f6b39666f50>:EnergyPlus Run Time=00hr 00min 21.79sec\n"
     ]
    }
   ],
   "source": [
    "await simulator.awaitable.run(\n",
    "    input=Simulator.InputSpecs(\n",
    "        model=Model().open(\n",
    "            _epds_.models / 'ASHRAE901_OfficeLarge_STD2019_Denver_Chiller205_Detailed.idf'\n",
    "        ),\n",
    "        weather=Weather().open(_epds_.weathers / 'USA_FL_Tampa.Intl.AP.722110_TMY3.epw'),\n",
    "    ),\n",
    "    options=Simulator.RuntimeOptions(\n",
    "        #design_day=True,\n",
    "    ),\n",
    ")"
   ]
  },
  {
   "cell_type": "code",
   "execution_count": null,
   "metadata": {},
   "outputs": [],
   "source": []
  }
 ],
 "metadata": {
  "kernelspec": {
   "display_name": ".venv",
   "language": "python",
   "name": "python3"
  },
  "language_info": {
   "codemirror_mode": {
    "name": "ipython",
    "version": 3
   },
   "file_extension": ".py",
   "mimetype": "text/x-python",
   "name": "python",
   "nbconvert_exporter": "python",
   "pygments_lexer": "ipython3",
   "version": "3.11.2"
  }
 },
 "nbformat": 4,
 "nbformat_minor": 2
}
