{
 "cells": [
  {
   "cell_type": "code",
   "execution_count": 1,
   "metadata": {},
   "outputs": [],
   "source": [
    "%matplotlib widget\n",
    "\n",
    "from energyplus.ooep import (\n",
    "    Simulator,\n",
    "    Model,\n",
    "    Weather,\n",
    "    Report,\n",
    ")\n",
    "from energyplus.ooep import (\n",
    "    WallClock,\n",
    "    OutputVariable,\n",
    ")\n",
    "\n",
    "from energyplus.dataset.basic import dataset as _epds_\n",
    "\n",
    "\n"
   ]
  },
  {
   "cell_type": "code",
   "execution_count": 1,
   "metadata": {},
   "outputs": [],
   "source": [
    "import json as _json_"
   ]
  },
  {
   "cell_type": "code",
   "execution_count": 9,
   "metadata": {},
   "outputs": [
    {
     "data": {
      "text/plain": [
       "dict_keys(['AirLoopHVAC', 'AirLoopHVAC:ControllerList', 'AirLoopHVAC:OutdoorAirSystem', 'AirLoopHVAC:OutdoorAirSystem:EquipmentList', 'AirLoopHVAC:ReturnPath', 'AirLoopHVAC:ReturnPlenum', 'AirLoopHVAC:SupplyPath', 'AirLoopHVAC:UnitaryHeatPump:WaterToAir', 'AirLoopHVAC:ZoneMixer', 'AirLoopHVAC:ZoneSplitter', 'AirTerminal:SingleDuct:ConstantVolume:NoReheat', 'AirTerminal:SingleDuct:VAV:Reheat', 'AvailabilityManager:NightCycle', 'AvailabilityManager:Scheduled', 'AvailabilityManagerAssignmentList', 'Boiler:HotWater', 'Branch', 'BranchList', 'Building', 'BuildingSurface:Detailed', 'Chiller:Electric:ASHRAE205', 'Coil:Cooling:Water', 'Coil:Cooling:WaterToAirHeatPump:EquationFit', 'Coil:Heating:Electric', 'Coil:Heating:Water', 'Coil:Heating:WaterToAirHeatPump:EquationFit', 'CondenserEquipmentList', 'CondenserEquipmentOperationSchemes', 'CondenserLoop', 'Connector:Mixer', 'Connector:Splitter', 'ConnectorList', 'Construction', 'Construction:CfactorUndergroundWall', 'Controller:MechanicalVentilation', 'Controller:OutdoorAir', 'Controller:WaterCoil', 'ConvergenceLimits', 'CoolingTower:VariableSpeed', 'Curve:Bicubic', 'Curve:Biquadratic', 'Curve:Cubic', 'Curve:QuadLinear', 'Curve:Quadratic', 'Curve:QuintLinear', 'Daylighting:Controls', 'Daylighting:ReferencePoint', 'DesignSpecification:OutdoorAir', 'DesignSpecification:ZoneAirDistribution', 'ElectricEquipment', 'ElectricLoadCenter:Transformer', 'EnergyManagementSystem:Actuator', 'EnergyManagementSystem:GlobalVariable', 'EnergyManagementSystem:InternalVariable', 'EnergyManagementSystem:OutputVariable', 'EnergyManagementSystem:Program', 'EnergyManagementSystem:ProgramCallingManager', 'EnergyManagementSystem:Sensor', 'Exterior:FuelEquipment', 'Exterior:Lights', 'Fan:ConstantVolume', 'Fan:OnOff', 'Fan:VariableVolume', 'FenestrationSurface:Detailed', 'FluidCooler:TwoSpeed', 'FluidProperties:GlycolConcentration', 'GlobalGeometryRules', 'HeaderedPumps:VariableSpeed', 'HeatBalanceAlgorithm', 'HeatExchanger:FluidToFluid', 'Humidifier:Steam:Electric', 'InternalMass', 'Lights', 'Material', 'Material:NoMass', 'Meter:Custom', 'Meter:CustomDecrement', 'NodeList', 'OutdoorAir:Mixer', 'OutdoorAir:Node', 'OutdoorAir:NodeList', 'Output:Constructions', 'Output:Meter:MeterFileOnly', 'Output:Surfaces:Drawing', 'Output:Surfaces:List', 'Output:Table:Monthly', 'Output:Table:SummaryReports', 'Output:Variable', 'Output:VariableDictionary', 'OutputControl:ReportingTolerances', 'OutputControl:Table:Style', 'People', 'Pipe:Adiabatic', 'PlantEquipmentList', 'PlantEquipmentOperation:ComponentSetpoint', 'PlantEquipmentOperation:CoolingLoad', 'PlantEquipmentOperation:HeatingLoad', 'PlantEquipmentOperationSchemes', 'PlantLoop', 'Pump:ConstantSpeed', 'Pump:VariableSpeed', 'RunPeriod', 'RunPeriodControl:DaylightSavingTime', 'RunPeriodControl:SpecialDays', 'Schedule:Compact', 'Schedule:Constant', 'ScheduleTypeLimits', 'SetpointManager:MixedAir', 'SetpointManager:OutdoorAirReset', 'SetpointManager:Scheduled', 'SetpointManager:Scheduled:DualSetpoint', 'SetpointManager:SingleZone:Cooling', 'SetpointManager:SingleZone:Heating', 'SetpointManager:SingleZone:Humidity:Minimum', 'ShadowCalculation', 'SimulationControl', 'Site:GroundTemperature:FCfactorMethod', 'Site:Location', 'Site:WaterMainsTemperature', 'Sizing:Parameters', 'Sizing:Plant', 'Sizing:System', 'Sizing:Zone', 'SizingPeriod:DesignDay', 'SurfaceConvectionAlgorithm:Inside', 'SurfaceConvectionAlgorithm:Outside', 'ThermostatSetpoint:DualSetpoint', 'Timestep', 'Version', 'WaterHeater:Mixed', 'WaterUse:Connections', 'WaterUse:Equipment', 'WindowMaterial:SimpleGlazingSystem', 'Zone', 'ZoneControl:Humidistat', 'ZoneControl:Thermostat', 'ZoneHVAC:AirDistributionUnit', 'ZoneHVAC:EquipmentConnections', 'ZoneHVAC:EquipmentList', 'ZoneInfiltration:DesignFlowRate'])"
      ]
     },
     "execution_count": 9,
     "metadata": {},
     "output_type": "execute_result"
    }
   ],
   "source": [
    "with open('.ooep-report-epjson/ASHRAE901_OfficeLarge_STD2019_Denver_Chiller205_Detailed.epJSON') as f:\n",
    "    d = _json_.load(f)\n",
    "\n",
    "d.keys()\n",
    "d['Timestep']"
   ]
  },
  {
   "cell_type": "code",
   "execution_count": 2,
   "metadata": {},
   "outputs": [
    {
     "name": "stdout",
     "output_type": "stream",
     "text": [
      "EnergyPlus Starting\n",
      "EnergyPlus, Version 23.2.0-7636e6b3e9, YMD=2024.04.10 11:40\n",
      "Converted input file format. Exiting.\n",
      "EnergyPlus Run Time=00hr 00min  0.06sec\n"
     ]
    },
    {
     "name": "stderr",
     "output_type": "stream",
     "text": [
      "EnergyPlus Completed Successfully.\n"
     ]
    }
   ],
   "source": [
    "import energyplus.ooep as _ooep_\n",
    "from energyplus.dataset.basic import dataset as _epds_\n",
    "\n",
    "model = _ooep_.Model().loadf(_epds_.models / 'ASHRAE901_OfficeLarge_STD2019_Denver_Chiller205_Detailed.idf')"
   ]
  },
  {
   "cell_type": "code",
   "execution_count": 4,
   "metadata": {},
   "outputs": [
    {
     "data": {
      "text/plain": [
       "['AirLoopHVAC',\n",
       " 'AirLoopHVAC:ControllerList',\n",
       " 'AirLoopHVAC:OutdoorAirSystem',\n",
       " 'AirLoopHVAC:OutdoorAirSystem:EquipmentList',\n",
       " 'AirLoopHVAC:ReturnPath',\n",
       " 'AirLoopHVAC:ReturnPlenum',\n",
       " 'AirLoopHVAC:SupplyPath',\n",
       " 'AirLoopHVAC:UnitaryHeatPump:WaterToAir',\n",
       " 'AirLoopHVAC:ZoneMixer',\n",
       " 'AirLoopHVAC:ZoneSplitter',\n",
       " 'AirTerminal:SingleDuct:ConstantVolume:NoReheat',\n",
       " 'AirTerminal:SingleDuct:VAV:Reheat',\n",
       " 'AvailabilityManager:NightCycle',\n",
       " 'AvailabilityManager:Scheduled',\n",
       " 'AvailabilityManagerAssignmentList',\n",
       " 'Boiler:HotWater',\n",
       " 'Branch',\n",
       " 'BranchList',\n",
       " 'Building',\n",
       " 'BuildingSurface:Detailed',\n",
       " 'Chiller:Electric:ASHRAE205',\n",
       " 'Coil:Cooling:Water',\n",
       " 'Coil:Cooling:WaterToAirHeatPump:EquationFit',\n",
       " 'Coil:Heating:Electric',\n",
       " 'Coil:Heating:Water',\n",
       " 'Coil:Heating:WaterToAirHeatPump:EquationFit',\n",
       " 'CondenserEquipmentList',\n",
       " 'CondenserEquipmentOperationSchemes',\n",
       " 'CondenserLoop',\n",
       " 'Connector:Mixer',\n",
       " 'Connector:Splitter',\n",
       " 'ConnectorList',\n",
       " 'Construction',\n",
       " 'Construction:CfactorUndergroundWall',\n",
       " 'Controller:MechanicalVentilation',\n",
       " 'Controller:OutdoorAir',\n",
       " 'Controller:WaterCoil',\n",
       " 'ConvergenceLimits',\n",
       " 'CoolingTower:VariableSpeed',\n",
       " 'Curve:Bicubic',\n",
       " 'Curve:Biquadratic',\n",
       " 'Curve:Cubic',\n",
       " 'Curve:QuadLinear',\n",
       " 'Curve:Quadratic',\n",
       " 'Curve:QuintLinear',\n",
       " 'Daylighting:Controls',\n",
       " 'Daylighting:ReferencePoint',\n",
       " 'DesignSpecification:OutdoorAir',\n",
       " 'DesignSpecification:ZoneAirDistribution',\n",
       " 'ElectricEquipment',\n",
       " 'ElectricLoadCenter:Transformer',\n",
       " 'EnergyManagementSystem:Actuator',\n",
       " 'EnergyManagementSystem:GlobalVariable',\n",
       " 'EnergyManagementSystem:InternalVariable',\n",
       " 'EnergyManagementSystem:OutputVariable',\n",
       " 'EnergyManagementSystem:Program',\n",
       " 'EnergyManagementSystem:ProgramCallingManager',\n",
       " 'EnergyManagementSystem:Sensor',\n",
       " 'Exterior:FuelEquipment',\n",
       " 'Exterior:Lights',\n",
       " 'Fan:ConstantVolume',\n",
       " 'Fan:OnOff',\n",
       " 'Fan:VariableVolume',\n",
       " 'FenestrationSurface:Detailed',\n",
       " 'FluidCooler:TwoSpeed',\n",
       " 'FluidProperties:GlycolConcentration',\n",
       " 'GlobalGeometryRules',\n",
       " 'HeaderedPumps:VariableSpeed',\n",
       " 'HeatBalanceAlgorithm',\n",
       " 'HeatExchanger:FluidToFluid',\n",
       " 'Humidifier:Steam:Electric',\n",
       " 'InternalMass',\n",
       " 'Lights',\n",
       " 'Material',\n",
       " 'Material:NoMass',\n",
       " 'Meter:Custom',\n",
       " 'Meter:CustomDecrement',\n",
       " 'NodeList',\n",
       " 'OutdoorAir:Mixer',\n",
       " 'OutdoorAir:Node',\n",
       " 'OutdoorAir:NodeList',\n",
       " 'Output:Constructions',\n",
       " 'Output:Meter:MeterFileOnly',\n",
       " 'Output:Surfaces:Drawing',\n",
       " 'Output:Surfaces:List',\n",
       " 'Output:Table:Monthly',\n",
       " 'Output:Table:SummaryReports',\n",
       " 'Output:Variable',\n",
       " 'Output:VariableDictionary',\n",
       " 'OutputControl:ReportingTolerances',\n",
       " 'OutputControl:Table:Style',\n",
       " 'People',\n",
       " 'Pipe:Adiabatic',\n",
       " 'PlantEquipmentList',\n",
       " 'PlantEquipmentOperation:ComponentSetpoint',\n",
       " 'PlantEquipmentOperation:CoolingLoad',\n",
       " 'PlantEquipmentOperation:HeatingLoad',\n",
       " 'PlantEquipmentOperationSchemes',\n",
       " 'PlantLoop',\n",
       " 'Pump:ConstantSpeed',\n",
       " 'Pump:VariableSpeed',\n",
       " 'RunPeriod',\n",
       " 'RunPeriodControl:DaylightSavingTime',\n",
       " 'RunPeriodControl:SpecialDays',\n",
       " 'Schedule:Compact',\n",
       " 'Schedule:Constant',\n",
       " 'ScheduleTypeLimits',\n",
       " 'SetpointManager:MixedAir',\n",
       " 'SetpointManager:OutdoorAirReset',\n",
       " 'SetpointManager:Scheduled',\n",
       " 'SetpointManager:Scheduled:DualSetpoint',\n",
       " 'SetpointManager:SingleZone:Cooling',\n",
       " 'SetpointManager:SingleZone:Heating',\n",
       " 'SetpointManager:SingleZone:Humidity:Minimum',\n",
       " 'ShadowCalculation',\n",
       " 'SimulationControl',\n",
       " 'Site:GroundTemperature:FCfactorMethod',\n",
       " 'Site:Location',\n",
       " 'Site:WaterMainsTemperature',\n",
       " 'Sizing:Parameters',\n",
       " 'Sizing:Plant',\n",
       " 'Sizing:System',\n",
       " 'Sizing:Zone',\n",
       " 'SizingPeriod:DesignDay',\n",
       " 'SurfaceConvectionAlgorithm:Inside',\n",
       " 'SurfaceConvectionAlgorithm:Outside',\n",
       " 'ThermostatSetpoint:DualSetpoint',\n",
       " 'Timestep',\n",
       " 'Version',\n",
       " 'WaterHeater:Mixed',\n",
       " 'WaterUse:Connections',\n",
       " 'WaterUse:Equipment',\n",
       " 'WindowMaterial:SimpleGlazingSystem',\n",
       " 'Zone',\n",
       " 'ZoneControl:Humidistat',\n",
       " 'ZoneControl:Thermostat',\n",
       " 'ZoneHVAC:AirDistributionUnit',\n",
       " 'ZoneHVAC:EquipmentConnections',\n",
       " 'ZoneHVAC:EquipmentList',\n",
       " 'ZoneInfiltration:DesignFlowRate']"
      ]
     },
     "execution_count": 4,
     "metadata": {},
     "output_type": "execute_result"
    }
   ],
   "source": [
    "list(model.keys())"
   ]
  },
  {
   "cell_type": "code",
   "execution_count": 7,
   "metadata": {},
   "outputs": [
    {
     "data": {
      "text/plain": [
       "{'Timestep 1': {'number_of_timesteps_per_hour': 4}}"
      ]
     },
     "execution_count": 7,
     "metadata": {},
     "output_type": "execute_result"
    }
   ],
   "source": [
    "model['Timestep']"
   ]
  },
  {
   "cell_type": "code",
   "execution_count": 5,
   "metadata": {},
   "outputs": [
    {
     "data": {
      "text/plain": [
       "{'Basement Inlet Nodes': {'nodes': [{'node_name': 'Basement Direct Air Inlet Node Name'}]},\n",
       " 'CAV_bas_OANode List': {'nodes': [{'node_name': 'CAV_bas_OAInlet Node'}]},\n",
       " 'Core_bottom Inlet Nodes': {'nodes': [{'node_name': 'Core_bottom VAV Box Outlet Node'}]},\n",
       " 'Core_mid Inlet Nodes': {'nodes': [{'node_name': 'Core_mid VAV Box Outlet Node'}]},\n",
       " 'Core_top Inlet Nodes': {'nodes': [{'node_name': 'Core_top VAV Box Outlet Node'}]},\n",
       " 'DataCenter Basement Inlets': {'nodes': [{'node_name': 'DataCenter Basement Supply Inlet'}]},\n",
       " 'DataCenter bot Inlets': {'nodes': [{'node_name': 'DataCenter bot Supply Inlet'}]},\n",
       " 'DataCenter mid Inlets': {'nodes': [{'node_name': 'DataCenter mid Supply Inlet'}]},\n",
       " 'DataCenter top Inlets': {'nodes': [{'node_name': 'DataCenter top Supply Inlet'}]},\n",
       " 'Perimeter_bot_ZN_1 Inlet Nodes': {'nodes': [{'node_name': 'Perimeter_bot_ZN_1 VAV Box Outlet Node'}]},\n",
       " 'Perimeter_bot_ZN_2 Inlet Nodes': {'nodes': [{'node_name': 'Perimeter_bot_ZN_2 VAV Box Outlet Node'}]},\n",
       " 'Perimeter_bot_ZN_3 Inlet Nodes': {'nodes': [{'node_name': 'Perimeter_bot_ZN_3 VAV Box Outlet Node'}]},\n",
       " 'Perimeter_bot_ZN_4 Inlet Nodes': {'nodes': [{'node_name': 'Perimeter_bot_ZN_4 VAV Box Outlet Node'}]},\n",
       " 'Perimeter_mid_ZN_1 Inlet Nodes': {'nodes': [{'node_name': 'Perimeter_mid_ZN_1 VAV Box Outlet Node'}]},\n",
       " 'Perimeter_mid_ZN_2 Inlet Nodes': {'nodes': [{'node_name': 'Perimeter_mid_ZN_2 VAV Box Outlet Node'}]},\n",
       " 'Perimeter_mid_ZN_3 Inlet Nodes': {'nodes': [{'node_name': 'Perimeter_mid_ZN_3 VAV Box Outlet Node'}]},\n",
       " 'Perimeter_mid_ZN_4 Inlet Nodes': {'nodes': [{'node_name': 'Perimeter_mid_ZN_4 VAV Box Outlet Node'}]},\n",
       " 'Perimeter_top_ZN_1 Inlet Nodes': {'nodes': [{'node_name': 'Perimeter_top_ZN_1 VAV Box Outlet Node'}]},\n",
       " 'Perimeter_top_ZN_2 Inlet Nodes': {'nodes': [{'node_name': 'Perimeter_top_ZN_2 VAV Box Outlet Node'}]},\n",
       " 'Perimeter_top_ZN_3 Inlet Nodes': {'nodes': [{'node_name': 'Perimeter_top_ZN_3 VAV Box Outlet Node'}]},\n",
       " 'Perimeter_top_ZN_4 Inlet Nodes': {'nodes': [{'node_name': 'Perimeter_top_ZN_4 VAV Box Outlet Node'}]},\n",
       " 'VAV_bot WITH REHEAT_OANode List': {'nodes': [{'node_name': 'VAV_bot WITH REHEAT_OAInlet Node'}]},\n",
       " 'VAV_mid WITH REHEAT_OANode List': {'nodes': [{'node_name': 'VAV_mid WITH REHEAT_OAInlet Node'}]},\n",
       " 'VAV_top WITH REHEAT_OANode List': {'nodes': [{'node_name': 'VAV_top WITH REHEAT_OAInlet Node'}]}}"
      ]
     },
     "execution_count": 5,
     "metadata": {},
     "output_type": "execute_result"
    }
   ],
   "source": [
    "model['NodeList']"
   ]
  },
  {
   "cell_type": "code",
   "execution_count": 22,
   "metadata": {},
   "outputs": [
    {
     "name": "stdout",
     "output_type": "stream",
     "text": [
      "EnergyPlus Starting\n",
      "EnergyPlus, Version 23.2.0-7636e6b3e9, YMD=2024.04.10 11:30\n",
      "Converted input file format. Exiting.\n",
      "EnergyPlus Run Time=00hr 00min  0.03sec\n"
     ]
    },
    {
     "name": "stderr",
     "output_type": "stream",
     "text": [
      "EnergyPlus Completed Successfully.\n"
     ]
    },
    {
     "data": {
      "text/plain": [
       "0"
      ]
     },
     "execution_count": 22,
     "metadata": {},
     "output_type": "execute_result"
    }
   ],
   "source": [
    "from energyplus.dataset.basic import dataset as _epds_\n",
    "\n",
    "from energyplus.ooep import _core as _core_\n",
    "\n",
    "\n",
    "core = _core_.Core()\n",
    "core.api.runtime.run_energyplus(\n",
    "    core.state,\n",
    "    command_line_args=[\n",
    "        #'--help', \n",
    "        '--convert-only', \n",
    "        str(_epds_.models / 'ASHRAE901_OfficeLarge_STD2019_Denver_Chiller205_Detailed.idf'),\n",
    "        '--weather', str(_epds_.weathers / 'USA_FL_Tampa.Intl.AP.722110_TMY3.epw'),\n",
    "        #'--expandobjects',\n",
    "        '--output-directory', '.ooep-report-n',\n",
    "    ],\n",
    ")"
   ]
  },
  {
   "cell_type": "code",
   "execution_count": null,
   "metadata": {},
   "outputs": [],
   "source": []
  },
  {
   "cell_type": "code",
   "execution_count": null,
   "metadata": {},
   "outputs": [],
   "source": []
  }
 ],
 "metadata": {
  "kernelspec": {
   "display_name": ".venv",
   "language": "python",
   "name": "python3"
  },
  "language_info": {
   "codemirror_mode": {
    "name": "ipython",
    "version": 3
   },
   "file_extension": ".py",
   "mimetype": "text/x-python",
   "name": "python",
   "nbconvert_exporter": "python",
   "pygments_lexer": "ipython3",
   "version": "3.11.2"
  }
 },
 "nbformat": 4,
 "nbformat_minor": 2
}
