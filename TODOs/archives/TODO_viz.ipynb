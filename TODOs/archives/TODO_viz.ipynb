{
 "cells": [
  {
   "cell_type": "code",
   "execution_count": 1,
   "metadata": {},
   "outputs": [],
   "source": [
    "#%pip install matplotlib ipympl"
   ]
  },
  {
   "cell_type": "code",
   "execution_count": 2,
   "metadata": {},
   "outputs": [
    {
     "data": {
      "text/plain": [
       "array([(1, 2.), (5, 6.)], dtype=[('x', '<i8'), ('y', '<f4')])"
      ]
     },
     "execution_count": 2,
     "metadata": {},
     "output_type": "execute_result"
    }
   ],
   "source": [
    "import numpy as np\n",
    "a = np.array([(1, 2), (1, 2), (5, 6)], dtype=[('x', 'i8'), ('y', 'f4')])\n",
    "_, i = np.unique(a['x'], return_index=True)\n",
    "a[i]"
   ]
  },
  {
   "cell_type": "code",
   "execution_count": 3,
   "metadata": {},
   "outputs": [
    {
     "data": {
      "text/plain": [
       "(2, 3)"
      ]
     },
     "execution_count": 3,
     "metadata": {},
     "output_type": "execute_result"
    }
   ],
   "source": [
    "import numpy as np\n",
    "\n",
    "a = np.array([(1, 2), (3, 4), (5, 6)], dtype=[('x', 'i8'), ('y', 'f4')])\n",
    "\n",
    "import numpy.lib.recfunctions\n",
    "np.lib.recfunctions.structured_to_unstructured(a).shape\n",
    "\n",
    "\n",
    "np.vstack([a[field] for field in a.dtype.fields]).shape"
   ]
  },
  {
   "cell_type": "code",
   "execution_count": 4,
   "metadata": {},
   "outputs": [
    {
     "data": {
      "text/plain": [
       "array([1, 3])"
      ]
     },
     "execution_count": 4,
     "metadata": {},
     "output_type": "execute_result"
    }
   ],
   "source": [
    "import numpy as np\n",
    "np.array([(1, 2), (3, 4)], dtype=[('x', 'i8'), ('y', 'f4')])['x']\n",
    "\n",
    "#np.array(np.array((1, 2), dtype=[('x', 'i8'), ('y', 'f4')]), ndmin=1)"
   ]
  },
  {
   "cell_type": "code",
   "execution_count": 5,
   "metadata": {},
   "outputs": [
    {
     "data": {
      "text/plain": [
       "array((1., 2.), dtype=[('x', '<f8'), ('y', '<f8')])"
      ]
     },
     "execution_count": 5,
     "metadata": {},
     "output_type": "execute_result"
    }
   ],
   "source": [
    "np.array([(1, 2)], dtype=[('x', None), ('y', None)]).squeeze()"
   ]
  },
  {
   "cell_type": "code",
   "execution_count": 6,
   "metadata": {},
   "outputs": [
    {
     "data": {
      "text/plain": [
       "((1., 2.), (3., 4.))"
      ]
     },
     "execution_count": 6,
     "metadata": {},
     "output_type": "execute_result"
    }
   ],
   "source": [
    "(*np.asarray([(1, 2), (3, 4)], dtype=[('x', None), ('y', None)]), )\n"
   ]
  },
  {
   "cell_type": "code",
   "execution_count": 7,
   "metadata": {},
   "outputs": [
    {
     "name": "stdout",
     "output_type": "stream",
     "text": [
      "np\n",
      "3\n"
     ]
    }
   ],
   "source": [
    "for a in np.asarray([('np', 2), (3, 4)], dtype=[('x', object), ('y', None)]):\n",
    "    print(a['x'])\n"
   ]
  },
  {
   "cell_type": "code",
   "execution_count": 23,
   "metadata": {},
   "outputs": [],
   "source": [
    "\n",
    "import numpy as _numpy_\n",
    "\n",
    "class CoordinateView:\n",
    "    def __init__(self, ndim):\n",
    "        self._ndim = ndim\n",
    "\n",
    "    def dtype(self, base=object):\n",
    "        res_full = [('x', base), ('y', base), ('z', base)]\n",
    "        if self._ndim > len(res_full):\n",
    "            raise ValueError(f'ndim {self._ndim} greater than accepted maximum {res_full}.')\n",
    "        return res_full[:self._ndim]\n",
    "\n",
    "    def cast(self, arr, base_dtype=object, *np_args, **np_kwargs):\n",
    "        return _numpy_.array(\n",
    "            arr, self.dtype(base=base_dtype), \n",
    "            *np_args, **np_kwargs,\n",
    "        )\n",
    "\n",
    "    def map(self, arr, func, base_dtype=object):\n",
    "        r\"\"\"\n",
    "        Apply function `func` to every item of `arr`\n",
    "        # TODO doc apply transformation func to each element of the coordinate system array\n",
    "        \"\"\"\n",
    "        return self.cast([\n",
    "            tuple(func(element) for element in row)\n",
    "            for row in self.cast(arr, ndmin=1, base_dtype=object)\n",
    "        ], base_dtype=base_dtype)\n",
    "        \n",
    "\n",
    "_numpy_.testing.assert_array_equal(\n",
    "    CoordinateView(ndim=2).map(\n",
    "        [(2, 3)],\n",
    "        lambda x: x**2,\n",
    "        base_dtype=object,\n",
    "    ),\n",
    "    _numpy_.array([(4., 9.)], dtype=[('x', '<f8'), ('y', '<f8')])    \n",
    ")\n"
   ]
  },
  {
   "cell_type": "code",
   "execution_count": 9,
   "metadata": {},
   "outputs": [],
   "source": [
    "import numpy as _numpy_\n",
    "from matplotlib.lines import Line2D\n",
    "\n",
    "\n",
    "class Line2DView:\n",
    "    def __init__(self, obj: Line2D):\n",
    "        self._obj = obj\n",
    "\n",
    "    def _ensure_struct(self, arr):\n",
    "        # TODO doc accepted value: [(1, 2), (3, 4)] or (1, 2)\n",
    "        return CoordinateView(ndim=2).cast(arr, ndmin=1)\n",
    "\n",
    "    @property\n",
    "    def value(self):\n",
    "        # TODO doc\n",
    "        \"\"\"Get the line data as a structured numpy array.\"\"\"\n",
    "        xdata, ydata = self._obj.get_data()\n",
    "        return self._ensure_struct(\n",
    "            list(zip(xdata, ydata)),\n",
    "        )\n",
    "\n",
    "    @value.setter\n",
    "    def value(self, value):\n",
    "        # TODO doc, typing\n",
    "        \"\"\"Set the line data from a structured numpy array.\"\"\"\n",
    "        #print('TODO rm set value', value)\n",
    "\n",
    "        value = self._ensure_struct(value)\n",
    "\n",
    "        self._obj.set_data(\n",
    "            *([value[field] for field in value.dtype.fields])\n",
    "        )\n",
    "\n",
    "        #self._obj.set_data(value['x'], value['y'])\n",
    "\n",
    "    def extend(self, value):\n",
    "        # TODO doc, typing\n",
    "        \"\"\"Extend the line with more points.\"\"\"\n",
    "        value = self._ensure_struct(value)\n",
    "        self.value = _numpy_.concatenate(\n",
    "            (self.value, value), \n",
    "            #axis=0,\n",
    "        )\n",
    "\n",
    "    def clip(self, size):\n",
    "        self.value = self.value[size:]\n",
    "\n",
    "    def ensure_unique(self, key):\n",
    "        _, indices = np.unique(self.value[key], return_index=True)\n",
    "        self.value = self.value[indices]"
   ]
  },
  {
   "cell_type": "code",
   "execution_count": 10,
   "metadata": {},
   "outputs": [],
   "source": [
    "import typing as _typing_\n",
    "import operator as _operator_\n",
    "\n",
    "import matplotlib as _matplotlib_\n",
    "\n",
    "# TODO fill in the relevant typing info from matplotlib\n",
    "class BaseArtistProvider:\n",
    "    artist: '_matplotlib_.artist.Artist'\n",
    "\n",
    "    def draws_on(self, ax_or_fig: _typing_.Union['_matplotlib_.axes.Axes', '_matplotlib_.figure.Figure']):\n",
    "        ax_or_fig.add_artist(self.artist)\n",
    "        return self\n",
    "\n",
    "# TODO thread safe\n",
    "class Line2DProvider(BaseArtistProvider):\n",
    "    def __init__(\n",
    "        self, \n",
    "        # TODO complete doc and type hints:\n",
    "        # TODO (Line2D) -> (xdata, ydata)\n",
    "        # TODO ((Line2D) -> (xdata), ydata: (Line2D) -> (ydata))\n",
    "        # TODO [(Line2D) -> (xdata), ydata: (Line2D) -> (ydata)]\n",
    "        data_ref: callable,\n",
    "        update_method: _typing_.Literal['set', 'extend'] = 'extend',\n",
    "        **mpl_kwargs,\n",
    "    ):\n",
    "        self.update_method = update_method\n",
    "        if isinstance(data_ref, _typing_.Callable):\n",
    "            self.data_gen = data_ref\n",
    "        else:\n",
    "            self.data_gen = lambda data_ref=data_ref: (\n",
    "                CoordinateView(ndim=2)\n",
    "                .map(\n",
    "                    data_ref, _operator_.call, \n",
    "                    base_dtype=object,\n",
    "                )\n",
    "            )\n",
    "        self.artist = Line2D([], [], **mpl_kwargs)\n",
    "\n",
    "    def update(self):\n",
    "        view = Line2DView(self.artist)\n",
    "\n",
    "        match self.update_method:\n",
    "            case 'set':\n",
    "                view.value = self.data_gen()\n",
    "            case 'extend':\n",
    "                view.extend(self.data_gen())\n",
    "            case _:\n",
    "                raise ValueError(rf'Unknown update method {self.update_method}')\n",
    "\n",
    "        return self"
   ]
  },
  {
   "cell_type": "code",
   "execution_count": 11,
   "metadata": {},
   "outputs": [],
   "source": [
    "%matplotlib widget\n",
    "\n",
    "class TestLine2DProvider:\n",
    "    def test_TODO(self):\n",
    "        import matplotlib.pyplot as _plt_\n",
    "        import numpy as _numpy_\n",
    "\n",
    "        _, ax = _plt_.subplots()\n",
    "\n",
    "        line_provider = Line2DProvider(\n",
    "            (lambda: _numpy_.random.rand(), lambda: _numpy_.random.rand()),\n",
    "            update_method='extend',\n",
    "        ).draws_on(ax)\n",
    "\n",
    "        for _ in range(100):\n",
    "            line_provider.update()"
   ]
  },
  {
   "cell_type": "code",
   "execution_count": 12,
   "metadata": {},
   "outputs": [],
   "source": [
    "# TODO extend Line2DProvider to allow symbolic Variable.Ref s to be specified in addition to funcs\n",
    "from energyplus.ooep import (\n",
    "    components as _components_,\n",
    "    exceptions as _exceptions_,\n",
    ")\n",
    "\n",
    "import energyplus.ooep.addons.base as _base_\n",
    "\n",
    "\n",
    "import typing as _typing_\n",
    "\n",
    "\n",
    "class VariableLine2DProvider(Line2DProvider, _base_.Addon):\n",
    "    def __init__(\n",
    "        self, \n",
    "        data_ref: callable,\n",
    "        event_ref: _components_.events.Event.Ref = None,\n",
    "        **kwargs,\n",
    "    ):\n",
    "        self.var_refs = []\n",
    "        self.event_ref = event_ref\n",
    "        if isinstance(data_ref, _typing_.Callable):\n",
    "            pass\n",
    "        else:\n",
    "            def transform(func_or_var):\n",
    "                nonlocal self\n",
    "                if isinstance(func_or_var, _components_.variables.BaseVariable.Ref):\n",
    "                    # TODO\n",
    "                    self.var_refs.append(func_or_var)\n",
    "                    return lambda v=func_or_var: self._engine.variables[v].value\n",
    "                return func_or_var\n",
    "            data_ref = (\n",
    "                CoordinateView(ndim=2)\n",
    "                .map(\n",
    "                    data_ref, transform, \n",
    "                    base_dtype=object,\n",
    "                )\n",
    "            )\n",
    "        super().__init__(data_ref, **kwargs)\n",
    "\n",
    "    # TODO performance, async update\n",
    "    def update(self):\n",
    "        try: super().update()\n",
    "        except _exceptions_.TemporaryUnavailableError:\n",
    "            pass\n",
    "\n",
    "    def __attach__(self, engine):\n",
    "        super().__attach__(engine=engine)\n",
    "\n",
    "        for var_ref in self.var_refs:\n",
    "            self._engine.variables.on(var_ref)\n",
    "\n",
    "        if self.event_ref is not None:\n",
    "            self._engine.events.on(\n",
    "                self.event_ref, \n",
    "                lambda _, self=self: self.update(),\n",
    "            )\n",
    "\n",
    "        return self"
   ]
  },
  {
   "cell_type": "code",
   "execution_count": 13,
   "metadata": {},
   "outputs": [],
   "source": [
    "import typing as _typing_\n",
    "import matplotlib.pyplot as _plt_\n",
    "\n",
    "\n",
    "class Line2DChart:\n",
    "    # TODO typing\n",
    "    def __init__(\n",
    "        self, \n",
    "        line_factory: _typing_.Callable[[], Line2DProvider] = Line2DProvider,\n",
    "        autoview: bool = True,\n",
    "    ):\n",
    "        self.autoview = autoview\n",
    "        self.line_factory = line_factory\n",
    "        self.lines: list[Line2DProvider] = []\n",
    "        self.figure, self.ax = _plt_.subplots()\n",
    "\n",
    "    def add(self, *args, **kwargs):\n",
    "        self.lines.append(\n",
    "            self.line_factory(*args, **kwargs)\n",
    "                .draws_on(self.ax)\n",
    "        )\n",
    "        return self\n",
    "    \n",
    "    def update(self):\n",
    "        # TODO\n",
    "        for line in self.lines: \n",
    "            line.update()\n",
    "            # TODO mv !!!!!!!!!!!!!\n",
    "            Line2DView(line.artist).clip(-500)\n",
    "            Line2DView(line.artist).ensure_unique(key='x')\n",
    "        \n",
    "        if self.autoview:\n",
    "            self.ax.relim()\n",
    "            self.ax.autoscale_view()\n",
    "        self.figure.canvas.draw_idle()\n",
    "        \n",
    "        return self\n",
    "    \n",
    "    def legend(self, *args, **kwargs):\n",
    "        self.ax.legend(*args, **kwargs)\n",
    "        return self\n",
    "\n",
    "class VariableLine2DChart(Line2DChart, _base_.Addon):\n",
    "    lines: list[VariableLine2DProvider]\n",
    "\n",
    "    def __init__(self, event_ref: _components_.events.Event.Ref = None):\n",
    "        super().__init__(line_factory=VariableLine2DProvider)\n",
    "        self.event_ref = event_ref\n",
    "\n",
    "    def __attach__(self, engine):\n",
    "        super().__attach__(engine=engine)\n",
    "        \n",
    "        for line in self.lines:\n",
    "            line.__attach__(self._engine)\n",
    "\n",
    "        # TODO !!!!!!!\n",
    "        if self.event_ref is not None:\n",
    "            self._engine.events.on(\n",
    "                self.event_ref, \n",
    "                lambda _, self=self: self.update(),\n",
    "            )\n",
    "\n",
    "        return self"
   ]
  },
  {
   "cell_type": "code",
   "execution_count": 14,
   "metadata": {},
   "outputs": [],
   "source": [
    "# TODO\n",
    "from energyplus.ooep import (\n",
    "    WallClock,\n",
    ")\n",
    "\n",
    "\n",
    "class VariableTrend2DChart(VariableLine2DChart, _base_.Addon):\n",
    "    # TODO type hints\n",
    "    def add(self, var_ref: ..., *args, **kwargs):\n",
    "        super().add(\n",
    "            (WallClock.Ref(), var_ref),\n",
    "            update_method='extend',\n",
    "            label=repr(var_ref),\n",
    "            *args, **kwargs,\n",
    "        )\n",
    "        return self\n"
   ]
  },
  {
   "cell_type": "code",
   "execution_count": 15,
   "metadata": {},
   "outputs": [],
   "source": [
    "#%matplotlib widget\n",
    "\n",
    "\n",
    "_ = '''\n",
    "import matplotlib.pyplot as _plt_\n",
    "fig, ax = _plt_.subplots()\n",
    "\n",
    "    ,\n",
    "    var_2dline := VariableLine2DProvider((\n",
    "        #WallClock.Ref(), \n",
    "        OutputVariable.Ref(\n",
    "            type='People Air Temperature',\n",
    "            key='CORE_MID',\n",
    "        ),\n",
    "        OutputVariable.Ref(\n",
    "            type='People Air Temperature',\n",
    "            key='CORE_MID',\n",
    "        ),\n",
    "    ), event_ref='begin_zone_timestep_after_init_heat_balance')\n",
    "    .draws_on(ax)\n",
    "\n",
    "'''"
   ]
  },
  {
   "cell_type": "code",
   "execution_count": 2,
   "metadata": {},
   "outputs": [
    {
     "data": {
      "application/vnd.jupyter.widget-view+json": {
       "model_id": "d18eca462a434a6dae25742e8f3fc417",
       "version_major": 2,
       "version_minor": 0
      },
      "text/plain": [
       "  0%|          | 0/100 [00:00<?, ?it/s]"
      ]
     },
     "metadata": {},
     "output_type": "display_data"
    },
    {
     "data": {
      "text/plain": [
       "<Task pending name='Task-8' coro=<Engine.run() running at /home/user@AD/lab/EnergyPlus-OOEP/packages/energyplus/ooep/utils/awaitables.py:68>>"
      ]
     },
     "execution_count": 2,
     "metadata": {},
     "output_type": "execute_result"
    },
    {
     "data": {
      "application/vnd.jupyter.widget-view+json": {
       "model_id": "409fb3d1c56243c8afdc6e1a10f0a819",
       "version_major": 2,
       "version_minor": 0
      },
      "image/png": "[encoded data removed]",
      "text/html": [
       "\n",
       "            <div style=\"display: inline-block;\">\n",
       "                <div class=\"jupyter-widgets widget-label\" style=\"text-align: center;\">\n",
       "                    Figure\n",
       "                </div>\n",
       "                <img src='data:image/png;base64,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' width=640.0/>\n",
       "            </div>\n",
       "        "
      ],
      "text/plain": [
       "Canvas(toolbar=Toolbar(toolitems=[('Home', 'Reset original view', 'home', 'home'), ('Back', 'Back to previous …"
      ]
     },
     "metadata": {},
     "output_type": "display_data"
    },
    {
     "ename": "ValueError",
     "evalue": "shape mismatch: objects cannot be broadcast to a single shape.  Mismatch is between arg 0 with shape (500,) and arg 1 with shape (501,).",
     "output_type": "error",
     "traceback": [
      "\u001b[0;31m---------------------------------------------------------------------------\u001b[0m",
      "\u001b[0;31mValueError\u001b[0m                                Traceback (most recent call last)",
      "File \u001b[0;32m~/lab/EnergyPlus-OOEP/.venv/lib/python3.11/site-packages/ipympl/backend_nbagg.py:279\u001b[0m, in \u001b[0;36mCanvas._handle_message\u001b[0;34m(self, object, content, buffers)\u001b[0m\n\u001b[1;32m    276\u001b[0m     \u001b[38;5;28mself\u001b[39m\u001b[38;5;241m.\u001b[39mmanager\u001b[38;5;241m.\u001b[39mhandle_json(content)\n\u001b[1;32m    278\u001b[0m \u001b[38;5;28;01melse\u001b[39;00m:\n\u001b[0;32m--> 279\u001b[0m     \u001b[38;5;28;43mself\u001b[39;49m\u001b[38;5;241;43m.\u001b[39;49m\u001b[43mmanager\u001b[49m\u001b[38;5;241;43m.\u001b[39;49m\u001b[43mhandle_json\u001b[49m\u001b[43m(\u001b[49m\u001b[43mcontent\u001b[49m\u001b[43m)\u001b[49m\n",
      "File \u001b[0;32m~/lab/EnergyPlus-OOEP/.venv/lib/python3.11/site-packages/matplotlib/backends/backend_webagg_core.py:464\u001b[0m, in \u001b[0;36mFigureManagerWebAgg.handle_json\u001b[0;34m(self, content)\u001b[0m\n\u001b[1;32m    463\u001b[0m \u001b[38;5;28;01mdef\u001b[39;00m \u001b[38;5;21mhandle_json\u001b[39m(\u001b[38;5;28mself\u001b[39m, content):\n\u001b[0;32m--> 464\u001b[0m     \u001b[38;5;28;43mself\u001b[39;49m\u001b[38;5;241;43m.\u001b[39;49m\u001b[43mcanvas\u001b[49m\u001b[38;5;241;43m.\u001b[39;49m\u001b[43mhandle_event\u001b[49m\u001b[43m(\u001b[49m\u001b[43mcontent\u001b[49m\u001b[43m)\u001b[49m\n",
      "File \u001b[0;32m~/lab/EnergyPlus-OOEP/.venv/lib/python3.11/site-packages/matplotlib/backends/backend_webagg_core.py:264\u001b[0m, in \u001b[0;36mFigureCanvasWebAggCore.handle_event\u001b[0;34m(self, event)\u001b[0m\n\u001b[1;32m    261\u001b[0m e_type \u001b[38;5;241m=\u001b[39m event[\u001b[38;5;124m'\u001b[39m\u001b[38;5;124mtype\u001b[39m\u001b[38;5;124m'\u001b[39m]\n\u001b[1;32m    262\u001b[0m handler \u001b[38;5;241m=\u001b[39m \u001b[38;5;28mgetattr\u001b[39m(\u001b[38;5;28mself\u001b[39m, \u001b[38;5;124mf\u001b[39m\u001b[38;5;124m'\u001b[39m\u001b[38;5;124mhandle_\u001b[39m\u001b[38;5;132;01m{\u001b[39;00me_type\u001b[38;5;132;01m}\u001b[39;00m\u001b[38;5;124m'\u001b[39m,\n\u001b[1;32m    263\u001b[0m                   \u001b[38;5;28mself\u001b[39m\u001b[38;5;241m.\u001b[39mhandle_unknown_event)\n\u001b[0;32m--> 264\u001b[0m \u001b[38;5;28;01mreturn\u001b[39;00m \u001b[43mhandler\u001b[49m\u001b[43m(\u001b[49m\u001b[43mevent\u001b[49m\u001b[43m)\u001b[49m\n",
      "File \u001b[0;32m~/lab/EnergyPlus-OOEP/.venv/lib/python3.11/site-packages/matplotlib/backends/backend_webagg_core.py:279\u001b[0m, in \u001b[0;36mFigureCanvasWebAggCore.handle_draw\u001b[0;34m(self, event)\u001b[0m\n\u001b[1;32m    278\u001b[0m \u001b[38;5;28;01mdef\u001b[39;00m \u001b[38;5;21mhandle_draw\u001b[39m(\u001b[38;5;28mself\u001b[39m, event):\n\u001b[0;32m--> 279\u001b[0m     \u001b[38;5;28;43mself\u001b[39;49m\u001b[38;5;241;43m.\u001b[39;49m\u001b[43mdraw\u001b[49m\u001b[43m(\u001b[49m\u001b[43m)\u001b[49m\n",
      "File \u001b[0;32m~/lab/EnergyPlus-OOEP/.venv/lib/python3.11/site-packages/matplotlib/backends/backend_webagg_core.py:189\u001b[0m, in \u001b[0;36mFigureCanvasWebAggCore.draw\u001b[0;34m(self)\u001b[0m\n\u001b[1;32m    187\u001b[0m \u001b[38;5;28mself\u001b[39m\u001b[38;5;241m.\u001b[39m_png_is_old \u001b[38;5;241m=\u001b[39m \u001b[38;5;28;01mTrue\u001b[39;00m\n\u001b[1;32m    188\u001b[0m \u001b[38;5;28;01mtry\u001b[39;00m:\n\u001b[0;32m--> 189\u001b[0m     \u001b[38;5;28;43msuper\u001b[39;49m\u001b[43m(\u001b[49m\u001b[43m)\u001b[49m\u001b[38;5;241;43m.\u001b[39;49m\u001b[43mdraw\u001b[49m\u001b[43m(\u001b[49m\u001b[43m)\u001b[49m\n\u001b[1;32m    190\u001b[0m \u001b[38;5;28;01mfinally\u001b[39;00m:\n\u001b[1;32m    191\u001b[0m     \u001b[38;5;28mself\u001b[39m\u001b[38;5;241m.\u001b[39mmanager\u001b[38;5;241m.\u001b[39mrefresh_all()\n",
      "File \u001b[0;32m~/lab/EnergyPlus-OOEP/.venv/lib/python3.11/site-packages/matplotlib/backends/backend_agg.py:388\u001b[0m, in \u001b[0;36mFigureCanvasAgg.draw\u001b[0;34m(self)\u001b[0m\n\u001b[1;32m    385\u001b[0m \u001b[38;5;66;03m# Acquire a lock on the shared font cache.\u001b[39;00m\n\u001b[1;32m    386\u001b[0m \u001b[38;5;28;01mwith\u001b[39;00m (\u001b[38;5;28mself\u001b[39m\u001b[38;5;241m.\u001b[39mtoolbar\u001b[38;5;241m.\u001b[39m_wait_cursor_for_draw_cm() \u001b[38;5;28;01mif\u001b[39;00m \u001b[38;5;28mself\u001b[39m\u001b[38;5;241m.\u001b[39mtoolbar\n\u001b[1;32m    387\u001b[0m       \u001b[38;5;28;01melse\u001b[39;00m nullcontext()):\n\u001b[0;32m--> 388\u001b[0m     \u001b[38;5;28;43mself\u001b[39;49m\u001b[38;5;241;43m.\u001b[39;49m\u001b[43mfigure\u001b[49m\u001b[38;5;241;43m.\u001b[39;49m\u001b[43mdraw\u001b[49m\u001b[43m(\u001b[49m\u001b[38;5;28;43mself\u001b[39;49m\u001b[38;5;241;43m.\u001b[39;49m\u001b[43mrenderer\u001b[49m\u001b[43m)\u001b[49m\n\u001b[1;32m    389\u001b[0m     \u001b[38;5;66;03m# A GUI class may be need to update a window using this draw, so\u001b[39;00m\n\u001b[1;32m    390\u001b[0m     \u001b[38;5;66;03m# don't forget to call the superclass.\u001b[39;00m\n\u001b[1;32m    391\u001b[0m     \u001b[38;5;28msuper\u001b[39m()\u001b[38;5;241m.\u001b[39mdraw()\n",
      "File \u001b[0;32m~/lab/EnergyPlus-OOEP/.venv/lib/python3.11/site-packages/matplotlib/artist.py:95\u001b[0m, in \u001b[0;36m_finalize_rasterization.<locals>.draw_wrapper\u001b[0;34m(artist, renderer, *args, **kwargs)\u001b[0m\n\u001b[1;32m     93\u001b[0m \u001b[38;5;129m@wraps\u001b[39m(draw)\n\u001b[1;32m     94\u001b[0m \u001b[38;5;28;01mdef\u001b[39;00m \u001b[38;5;21mdraw_wrapper\u001b[39m(artist, renderer, \u001b[38;5;241m*\u001b[39margs, \u001b[38;5;241m*\u001b[39m\u001b[38;5;241m*\u001b[39mkwargs):\n\u001b[0;32m---> 95\u001b[0m     result \u001b[38;5;241m=\u001b[39m \u001b[43mdraw\u001b[49m\u001b[43m(\u001b[49m\u001b[43martist\u001b[49m\u001b[43m,\u001b[49m\u001b[43m \u001b[49m\u001b[43mrenderer\u001b[49m\u001b[43m,\u001b[49m\u001b[43m \u001b[49m\u001b[38;5;241;43m*\u001b[39;49m\u001b[43margs\u001b[49m\u001b[43m,\u001b[49m\u001b[43m \u001b[49m\u001b[38;5;241;43m*\u001b[39;49m\u001b[38;5;241;43m*\u001b[39;49m\u001b[43mkwargs\u001b[49m\u001b[43m)\u001b[49m\n\u001b[1;32m     96\u001b[0m     \u001b[38;5;28;01mif\u001b[39;00m renderer\u001b[38;5;241m.\u001b[39m_rasterizing:\n\u001b[1;32m     97\u001b[0m         renderer\u001b[38;5;241m.\u001b[39mstop_rasterizing()\n",
      "File \u001b[0;32m~/lab/EnergyPlus-OOEP/.venv/lib/python3.11/site-packages/matplotlib/artist.py:72\u001b[0m, in \u001b[0;36mallow_rasterization.<locals>.draw_wrapper\u001b[0;34m(artist, renderer)\u001b[0m\n\u001b[1;32m     69\u001b[0m     \u001b[38;5;28;01mif\u001b[39;00m artist\u001b[38;5;241m.\u001b[39mget_agg_filter() \u001b[38;5;129;01mis\u001b[39;00m \u001b[38;5;129;01mnot\u001b[39;00m \u001b[38;5;28;01mNone\u001b[39;00m:\n\u001b[1;32m     70\u001b[0m         renderer\u001b[38;5;241m.\u001b[39mstart_filter()\n\u001b[0;32m---> 72\u001b[0m     \u001b[38;5;28;01mreturn\u001b[39;00m \u001b[43mdraw\u001b[49m\u001b[43m(\u001b[49m\u001b[43martist\u001b[49m\u001b[43m,\u001b[49m\u001b[43m \u001b[49m\u001b[43mrenderer\u001b[49m\u001b[43m)\u001b[49m\n\u001b[1;32m     73\u001b[0m \u001b[38;5;28;01mfinally\u001b[39;00m:\n\u001b[1;32m     74\u001b[0m     \u001b[38;5;28;01mif\u001b[39;00m artist\u001b[38;5;241m.\u001b[39mget_agg_filter() \u001b[38;5;129;01mis\u001b[39;00m \u001b[38;5;129;01mnot\u001b[39;00m \u001b[38;5;28;01mNone\u001b[39;00m:\n",
      "File \u001b[0;32m~/lab/EnergyPlus-OOEP/.venv/lib/python3.11/site-packages/matplotlib/figure.py:3154\u001b[0m, in \u001b[0;36mFigure.draw\u001b[0;34m(self, renderer)\u001b[0m\n\u001b[1;32m   3151\u001b[0m         \u001b[38;5;66;03m# ValueError can occur when resizing a window.\u001b[39;00m\n\u001b[1;32m   3153\u001b[0m \u001b[38;5;28mself\u001b[39m\u001b[38;5;241m.\u001b[39mpatch\u001b[38;5;241m.\u001b[39mdraw(renderer)\n\u001b[0;32m-> 3154\u001b[0m \u001b[43mmimage\u001b[49m\u001b[38;5;241;43m.\u001b[39;49m\u001b[43m_draw_list_compositing_images\u001b[49m\u001b[43m(\u001b[49m\n\u001b[1;32m   3155\u001b[0m \u001b[43m    \u001b[49m\u001b[43mrenderer\u001b[49m\u001b[43m,\u001b[49m\u001b[43m \u001b[49m\u001b[38;5;28;43mself\u001b[39;49m\u001b[43m,\u001b[49m\u001b[43m \u001b[49m\u001b[43martists\u001b[49m\u001b[43m,\u001b[49m\u001b[43m \u001b[49m\u001b[38;5;28;43mself\u001b[39;49m\u001b[38;5;241;43m.\u001b[39;49m\u001b[43msuppressComposite\u001b[49m\u001b[43m)\u001b[49m\n\u001b[1;32m   3157\u001b[0m \u001b[38;5;28;01mfor\u001b[39;00m sfig \u001b[38;5;129;01min\u001b[39;00m \u001b[38;5;28mself\u001b[39m\u001b[38;5;241m.\u001b[39msubfigs:\n\u001b[1;32m   3158\u001b[0m     sfig\u001b[38;5;241m.\u001b[39mdraw(renderer)\n",
      "File \u001b[0;32m~/lab/EnergyPlus-OOEP/.venv/lib/python3.11/site-packages/matplotlib/image.py:132\u001b[0m, in \u001b[0;36m_draw_list_compositing_images\u001b[0;34m(renderer, parent, artists, suppress_composite)\u001b[0m\n\u001b[1;32m    130\u001b[0m \u001b[38;5;28;01mif\u001b[39;00m not_composite \u001b[38;5;129;01mor\u001b[39;00m \u001b[38;5;129;01mnot\u001b[39;00m has_images:\n\u001b[1;32m    131\u001b[0m     \u001b[38;5;28;01mfor\u001b[39;00m a \u001b[38;5;129;01min\u001b[39;00m artists:\n\u001b[0;32m--> 132\u001b[0m         \u001b[43ma\u001b[49m\u001b[38;5;241;43m.\u001b[39;49m\u001b[43mdraw\u001b[49m\u001b[43m(\u001b[49m\u001b[43mrenderer\u001b[49m\u001b[43m)\u001b[49m\n\u001b[1;32m    133\u001b[0m \u001b[38;5;28;01melse\u001b[39;00m:\n\u001b[1;32m    134\u001b[0m     \u001b[38;5;66;03m# Composite any adjacent images together\u001b[39;00m\n\u001b[1;32m    135\u001b[0m     image_group \u001b[38;5;241m=\u001b[39m []\n",
      "File \u001b[0;32m~/lab/EnergyPlus-OOEP/.venv/lib/python3.11/site-packages/matplotlib/artist.py:72\u001b[0m, in \u001b[0;36mallow_rasterization.<locals>.draw_wrapper\u001b[0;34m(artist, renderer)\u001b[0m\n\u001b[1;32m     69\u001b[0m     \u001b[38;5;28;01mif\u001b[39;00m artist\u001b[38;5;241m.\u001b[39mget_agg_filter() \u001b[38;5;129;01mis\u001b[39;00m \u001b[38;5;129;01mnot\u001b[39;00m \u001b[38;5;28;01mNone\u001b[39;00m:\n\u001b[1;32m     70\u001b[0m         renderer\u001b[38;5;241m.\u001b[39mstart_filter()\n\u001b[0;32m---> 72\u001b[0m     \u001b[38;5;28;01mreturn\u001b[39;00m \u001b[43mdraw\u001b[49m\u001b[43m(\u001b[49m\u001b[43martist\u001b[49m\u001b[43m,\u001b[49m\u001b[43m \u001b[49m\u001b[43mrenderer\u001b[49m\u001b[43m)\u001b[49m\n\u001b[1;32m     73\u001b[0m \u001b[38;5;28;01mfinally\u001b[39;00m:\n\u001b[1;32m     74\u001b[0m     \u001b[38;5;28;01mif\u001b[39;00m artist\u001b[38;5;241m.\u001b[39mget_agg_filter() \u001b[38;5;129;01mis\u001b[39;00m \u001b[38;5;129;01mnot\u001b[39;00m \u001b[38;5;28;01mNone\u001b[39;00m:\n",
      "File \u001b[0;32m~/lab/EnergyPlus-OOEP/.venv/lib/python3.11/site-packages/matplotlib/axes/_base.py:3070\u001b[0m, in \u001b[0;36m_AxesBase.draw\u001b[0;34m(self, renderer)\u001b[0m\n\u001b[1;32m   3067\u001b[0m \u001b[38;5;28;01mif\u001b[39;00m artists_rasterized:\n\u001b[1;32m   3068\u001b[0m     _draw_rasterized(\u001b[38;5;28mself\u001b[39m\u001b[38;5;241m.\u001b[39mfigure, artists_rasterized, renderer)\n\u001b[0;32m-> 3070\u001b[0m \u001b[43mmimage\u001b[49m\u001b[38;5;241;43m.\u001b[39;49m\u001b[43m_draw_list_compositing_images\u001b[49m\u001b[43m(\u001b[49m\n\u001b[1;32m   3071\u001b[0m \u001b[43m    \u001b[49m\u001b[43mrenderer\u001b[49m\u001b[43m,\u001b[49m\u001b[43m \u001b[49m\u001b[38;5;28;43mself\u001b[39;49m\u001b[43m,\u001b[49m\u001b[43m \u001b[49m\u001b[43martists\u001b[49m\u001b[43m,\u001b[49m\u001b[43m \u001b[49m\u001b[38;5;28;43mself\u001b[39;49m\u001b[38;5;241;43m.\u001b[39;49m\u001b[43mfigure\u001b[49m\u001b[38;5;241;43m.\u001b[39;49m\u001b[43msuppressComposite\u001b[49m\u001b[43m)\u001b[49m\n\u001b[1;32m   3073\u001b[0m renderer\u001b[38;5;241m.\u001b[39mclose_group(\u001b[38;5;124m'\u001b[39m\u001b[38;5;124maxes\u001b[39m\u001b[38;5;124m'\u001b[39m)\n\u001b[1;32m   3074\u001b[0m \u001b[38;5;28mself\u001b[39m\u001b[38;5;241m.\u001b[39mstale \u001b[38;5;241m=\u001b[39m \u001b[38;5;28;01mFalse\u001b[39;00m\n",
      "File \u001b[0;32m~/lab/EnergyPlus-OOEP/.venv/lib/python3.11/site-packages/matplotlib/image.py:132\u001b[0m, in \u001b[0;36m_draw_list_compositing_images\u001b[0;34m(renderer, parent, artists, suppress_composite)\u001b[0m\n\u001b[1;32m    130\u001b[0m \u001b[38;5;28;01mif\u001b[39;00m not_composite \u001b[38;5;129;01mor\u001b[39;00m \u001b[38;5;129;01mnot\u001b[39;00m has_images:\n\u001b[1;32m    131\u001b[0m     \u001b[38;5;28;01mfor\u001b[39;00m a \u001b[38;5;129;01min\u001b[39;00m artists:\n\u001b[0;32m--> 132\u001b[0m         \u001b[43ma\u001b[49m\u001b[38;5;241;43m.\u001b[39;49m\u001b[43mdraw\u001b[49m\u001b[43m(\u001b[49m\u001b[43mrenderer\u001b[49m\u001b[43m)\u001b[49m\n\u001b[1;32m    133\u001b[0m \u001b[38;5;28;01melse\u001b[39;00m:\n\u001b[1;32m    134\u001b[0m     \u001b[38;5;66;03m# Composite any adjacent images together\u001b[39;00m\n\u001b[1;32m    135\u001b[0m     image_group \u001b[38;5;241m=\u001b[39m []\n",
      "File \u001b[0;32m~/lab/EnergyPlus-OOEP/.venv/lib/python3.11/site-packages/matplotlib/artist.py:72\u001b[0m, in \u001b[0;36mallow_rasterization.<locals>.draw_wrapper\u001b[0;34m(artist, renderer)\u001b[0m\n\u001b[1;32m     69\u001b[0m     \u001b[38;5;28;01mif\u001b[39;00m artist\u001b[38;5;241m.\u001b[39mget_agg_filter() \u001b[38;5;129;01mis\u001b[39;00m \u001b[38;5;129;01mnot\u001b[39;00m \u001b[38;5;28;01mNone\u001b[39;00m:\n\u001b[1;32m     70\u001b[0m         renderer\u001b[38;5;241m.\u001b[39mstart_filter()\n\u001b[0;32m---> 72\u001b[0m     \u001b[38;5;28;01mreturn\u001b[39;00m \u001b[43mdraw\u001b[49m\u001b[43m(\u001b[49m\u001b[43martist\u001b[49m\u001b[43m,\u001b[49m\u001b[43m \u001b[49m\u001b[43mrenderer\u001b[49m\u001b[43m)\u001b[49m\n\u001b[1;32m     73\u001b[0m \u001b[38;5;28;01mfinally\u001b[39;00m:\n\u001b[1;32m     74\u001b[0m     \u001b[38;5;28;01mif\u001b[39;00m artist\u001b[38;5;241m.\u001b[39mget_agg_filter() \u001b[38;5;129;01mis\u001b[39;00m \u001b[38;5;129;01mnot\u001b[39;00m \u001b[38;5;28;01mNone\u001b[39;00m:\n",
      "File \u001b[0;32m~/lab/EnergyPlus-OOEP/.venv/lib/python3.11/site-packages/matplotlib/legend.py:780\u001b[0m, in \u001b[0;36mLegend.draw\u001b[0;34m(self, renderer)\u001b[0m\n\u001b[1;32m    777\u001b[0m     Shadow(\u001b[38;5;28mself\u001b[39m\u001b[38;5;241m.\u001b[39mlegendPatch, \u001b[38;5;241m*\u001b[39m\u001b[38;5;241m*\u001b[39m\u001b[38;5;28mself\u001b[39m\u001b[38;5;241m.\u001b[39m_shadow_props)\u001b[38;5;241m.\u001b[39mdraw(renderer)\n\u001b[1;32m    779\u001b[0m \u001b[38;5;28mself\u001b[39m\u001b[38;5;241m.\u001b[39mlegendPatch\u001b[38;5;241m.\u001b[39mdraw(renderer)\n\u001b[0;32m--> 780\u001b[0m \u001b[38;5;28;43mself\u001b[39;49m\u001b[38;5;241;43m.\u001b[39;49m\u001b[43m_legend_box\u001b[49m\u001b[38;5;241;43m.\u001b[39;49m\u001b[43mdraw\u001b[49m\u001b[43m(\u001b[49m\u001b[43mrenderer\u001b[49m\u001b[43m)\u001b[49m\n\u001b[1;32m    782\u001b[0m renderer\u001b[38;5;241m.\u001b[39mclose_group(\u001b[38;5;124m'\u001b[39m\u001b[38;5;124mlegend\u001b[39m\u001b[38;5;124m'\u001b[39m)\n\u001b[1;32m    783\u001b[0m \u001b[38;5;28mself\u001b[39m\u001b[38;5;241m.\u001b[39mstale \u001b[38;5;241m=\u001b[39m \u001b[38;5;28;01mFalse\u001b[39;00m\n",
      "File \u001b[0;32m~/lab/EnergyPlus-OOEP/.venv/lib/python3.11/site-packages/matplotlib/artist.py:39\u001b[0m, in \u001b[0;36m_prevent_rasterization.<locals>.draw_wrapper\u001b[0;34m(artist, renderer, *args, **kwargs)\u001b[0m\n\u001b[1;32m     36\u001b[0m     renderer\u001b[38;5;241m.\u001b[39mstop_rasterizing()\n\u001b[1;32m     37\u001b[0m     renderer\u001b[38;5;241m.\u001b[39m_rasterizing \u001b[38;5;241m=\u001b[39m \u001b[38;5;28;01mFalse\u001b[39;00m\n\u001b[0;32m---> 39\u001b[0m \u001b[38;5;28;01mreturn\u001b[39;00m \u001b[43mdraw\u001b[49m\u001b[43m(\u001b[49m\u001b[43martist\u001b[49m\u001b[43m,\u001b[49m\u001b[43m \u001b[49m\u001b[43mrenderer\u001b[49m\u001b[43m,\u001b[49m\u001b[43m \u001b[49m\u001b[38;5;241;43m*\u001b[39;49m\u001b[43margs\u001b[49m\u001b[43m,\u001b[49m\u001b[43m \u001b[49m\u001b[38;5;241;43m*\u001b[39;49m\u001b[38;5;241;43m*\u001b[39;49m\u001b[43mkwargs\u001b[49m\u001b[43m)\u001b[49m\n",
      "File \u001b[0;32m~/lab/EnergyPlus-OOEP/.venv/lib/python3.11/site-packages/matplotlib/offsetbox.py:412\u001b[0m, in \u001b[0;36mOffsetBox.draw\u001b[0;34m(self, renderer)\u001b[0m\n\u001b[1;32m    407\u001b[0m \u001b[38;5;250m\u001b[39m\u001b[38;5;124;03m\"\"\"\u001b[39;00m\n\u001b[1;32m    408\u001b[0m \u001b[38;5;124;03mUpdate the location of children if necessary and draw them\u001b[39;00m\n\u001b[1;32m    409\u001b[0m \u001b[38;5;124;03mto the given *renderer*.\u001b[39;00m\n\u001b[1;32m    410\u001b[0m \u001b[38;5;124;03m\"\"\"\u001b[39;00m\n\u001b[1;32m    411\u001b[0m bbox, offsets \u001b[38;5;241m=\u001b[39m \u001b[38;5;28mself\u001b[39m\u001b[38;5;241m.\u001b[39m_get_bbox_and_child_offsets(renderer)\n\u001b[0;32m--> 412\u001b[0m px, py \u001b[38;5;241m=\u001b[39m \u001b[38;5;28;43mself\u001b[39;49m\u001b[38;5;241;43m.\u001b[39;49m\u001b[43mget_offset\u001b[49m\u001b[43m(\u001b[49m\u001b[43mbbox\u001b[49m\u001b[43m,\u001b[49m\u001b[43m \u001b[49m\u001b[43mrenderer\u001b[49m\u001b[43m)\u001b[49m\n\u001b[1;32m    413\u001b[0m \u001b[38;5;28;01mfor\u001b[39;00m c, (ox, oy) \u001b[38;5;129;01min\u001b[39;00m \u001b[38;5;28mzip\u001b[39m(\u001b[38;5;28mself\u001b[39m\u001b[38;5;241m.\u001b[39mget_visible_children(), offsets):\n\u001b[1;32m    414\u001b[0m     c\u001b[38;5;241m.\u001b[39mset_offset((px \u001b[38;5;241m+\u001b[39m ox, py \u001b[38;5;241m+\u001b[39m oy))\n",
      "File \u001b[0;32m~/lab/EnergyPlus-OOEP/.venv/lib/python3.11/site-packages/matplotlib/offsetbox.py:60\u001b[0m, in \u001b[0;36m_compat_get_offset.<locals>.get_offset\u001b[0;34m(self, *args, **kwargs)\u001b[0m\n\u001b[1;32m     56\u001b[0m params \u001b[38;5;241m=\u001b[39m _api\u001b[38;5;241m.\u001b[39mselect_matching_signature(sigs, \u001b[38;5;28mself\u001b[39m, \u001b[38;5;241m*\u001b[39margs, \u001b[38;5;241m*\u001b[39m\u001b[38;5;241m*\u001b[39mkwargs)\n\u001b[1;32m     57\u001b[0m bbox \u001b[38;5;241m=\u001b[39m (params[\u001b[38;5;124m\"\u001b[39m\u001b[38;5;124mbbox\u001b[39m\u001b[38;5;124m\"\u001b[39m] \u001b[38;5;28;01mif\u001b[39;00m \u001b[38;5;124m\"\u001b[39m\u001b[38;5;124mbbox\u001b[39m\u001b[38;5;124m\"\u001b[39m \u001b[38;5;129;01min\u001b[39;00m params \u001b[38;5;28;01melse\u001b[39;00m\n\u001b[1;32m     58\u001b[0m         Bbox\u001b[38;5;241m.\u001b[39mfrom_bounds(\u001b[38;5;241m-\u001b[39mparams[\u001b[38;5;124m\"\u001b[39m\u001b[38;5;124mxdescent\u001b[39m\u001b[38;5;124m\"\u001b[39m], \u001b[38;5;241m-\u001b[39mparams[\u001b[38;5;124m\"\u001b[39m\u001b[38;5;124mydescent\u001b[39m\u001b[38;5;124m\"\u001b[39m],\n\u001b[1;32m     59\u001b[0m                          params[\u001b[38;5;124m\"\u001b[39m\u001b[38;5;124mwidth\u001b[39m\u001b[38;5;124m\"\u001b[39m], params[\u001b[38;5;124m\"\u001b[39m\u001b[38;5;124mheight\u001b[39m\u001b[38;5;124m\"\u001b[39m]))\n\u001b[0;32m---> 60\u001b[0m \u001b[38;5;28;01mreturn\u001b[39;00m \u001b[43mmeth\u001b[49m\u001b[43m(\u001b[49m\u001b[43mparams\u001b[49m\u001b[43m[\u001b[49m\u001b[38;5;124;43m\"\u001b[39;49m\u001b[38;5;124;43mself\u001b[39;49m\u001b[38;5;124;43m\"\u001b[39;49m\u001b[43m]\u001b[49m\u001b[43m,\u001b[49m\u001b[43m \u001b[49m\u001b[43mbbox\u001b[49m\u001b[43m,\u001b[49m\u001b[43m \u001b[49m\u001b[43mparams\u001b[49m\u001b[43m[\u001b[49m\u001b[38;5;124;43m\"\u001b[39;49m\u001b[38;5;124;43mrenderer\u001b[39;49m\u001b[38;5;124;43m\"\u001b[39;49m\u001b[43m]\u001b[49m\u001b[43m)\u001b[49m\n",
      "File \u001b[0;32m~/lab/EnergyPlus-OOEP/.venv/lib/python3.11/site-packages/matplotlib/offsetbox.py:312\u001b[0m, in \u001b[0;36mOffsetBox.get_offset\u001b[0;34m(self, bbox, renderer)\u001b[0m\n\u001b[1;32m    297\u001b[0m \u001b[38;5;129m@_compat_get_offset\u001b[39m\n\u001b[1;32m    298\u001b[0m \u001b[38;5;28;01mdef\u001b[39;00m \u001b[38;5;21mget_offset\u001b[39m(\u001b[38;5;28mself\u001b[39m, bbox, renderer):\n\u001b[1;32m    299\u001b[0m \u001b[38;5;250m    \u001b[39m\u001b[38;5;124;03m\"\"\"\u001b[39;00m\n\u001b[1;32m    300\u001b[0m \u001b[38;5;124;03m    Return the offset as a tuple (x, y).\u001b[39;00m\n\u001b[1;32m    301\u001b[0m \n\u001b[0;32m   (...)\u001b[0m\n\u001b[1;32m    309\u001b[0m \u001b[38;5;124;03m    renderer : `.RendererBase` subclass\u001b[39;00m\n\u001b[1;32m    310\u001b[0m \u001b[38;5;124;03m    \"\"\"\u001b[39;00m\n\u001b[1;32m    311\u001b[0m     \u001b[38;5;28;01mreturn\u001b[39;00m (\n\u001b[0;32m--> 312\u001b[0m         \u001b[38;5;28;43mself\u001b[39;49m\u001b[38;5;241;43m.\u001b[39;49m\u001b[43m_offset\u001b[49m\u001b[43m(\u001b[49m\u001b[43mbbox\u001b[49m\u001b[38;5;241;43m.\u001b[39;49m\u001b[43mwidth\u001b[49m\u001b[43m,\u001b[49m\u001b[43m \u001b[49m\u001b[43mbbox\u001b[49m\u001b[38;5;241;43m.\u001b[39;49m\u001b[43mheight\u001b[49m\u001b[43m,\u001b[49m\u001b[43m \u001b[49m\u001b[38;5;241;43m-\u001b[39;49m\u001b[43mbbox\u001b[49m\u001b[38;5;241;43m.\u001b[39;49m\u001b[43mx0\u001b[49m\u001b[43m,\u001b[49m\u001b[43m \u001b[49m\u001b[38;5;241;43m-\u001b[39;49m\u001b[43mbbox\u001b[49m\u001b[38;5;241;43m.\u001b[39;49m\u001b[43my0\u001b[49m\u001b[43m,\u001b[49m\u001b[43m \u001b[49m\u001b[43mrenderer\u001b[49m\u001b[43m)\u001b[49m\n\u001b[1;32m    313\u001b[0m         \u001b[38;5;28;01mif\u001b[39;00m \u001b[38;5;28mcallable\u001b[39m(\u001b[38;5;28mself\u001b[39m\u001b[38;5;241m.\u001b[39m_offset)\n\u001b[1;32m    314\u001b[0m         \u001b[38;5;28;01melse\u001b[39;00m \u001b[38;5;28mself\u001b[39m\u001b[38;5;241m.\u001b[39m_offset)\n",
      "File \u001b[0;32m~/lab/EnergyPlus-OOEP/.venv/lib/python3.11/site-packages/matplotlib/legend.py:738\u001b[0m, in \u001b[0;36mLegend._findoffset\u001b[0;34m(self, width, height, xdescent, ydescent, renderer)\u001b[0m\n\u001b[1;32m    735\u001b[0m \u001b[38;5;250m\u001b[39m\u001b[38;5;124;03m\"\"\"Helper function to locate the legend.\"\"\"\u001b[39;00m\n\u001b[1;32m    737\u001b[0m \u001b[38;5;28;01mif\u001b[39;00m \u001b[38;5;28mself\u001b[39m\u001b[38;5;241m.\u001b[39m_loc \u001b[38;5;241m==\u001b[39m \u001b[38;5;241m0\u001b[39m:  \u001b[38;5;66;03m# \"best\".\u001b[39;00m\n\u001b[0;32m--> 738\u001b[0m     x, y \u001b[38;5;241m=\u001b[39m \u001b[38;5;28;43mself\u001b[39;49m\u001b[38;5;241;43m.\u001b[39;49m\u001b[43m_find_best_position\u001b[49m\u001b[43m(\u001b[49m\u001b[43mwidth\u001b[49m\u001b[43m,\u001b[49m\u001b[43m \u001b[49m\u001b[43mheight\u001b[49m\u001b[43m,\u001b[49m\u001b[43m \u001b[49m\u001b[43mrenderer\u001b[49m\u001b[43m)\u001b[49m\n\u001b[1;32m    739\u001b[0m \u001b[38;5;28;01melif\u001b[39;00m \u001b[38;5;28mself\u001b[39m\u001b[38;5;241m.\u001b[39m_loc \u001b[38;5;129;01min\u001b[39;00m Legend\u001b[38;5;241m.\u001b[39mcodes\u001b[38;5;241m.\u001b[39mvalues():  \u001b[38;5;66;03m# Fixed location.\u001b[39;00m\n\u001b[1;32m    740\u001b[0m     bbox \u001b[38;5;241m=\u001b[39m Bbox\u001b[38;5;241m.\u001b[39mfrom_bounds(\u001b[38;5;241m0\u001b[39m, \u001b[38;5;241m0\u001b[39m, width, height)\n",
      "File \u001b[0;32m~/lab/EnergyPlus-OOEP/.venv/lib/python3.11/site-packages/matplotlib/legend.py:1171\u001b[0m, in \u001b[0;36mLegend._find_best_position\u001b[0;34m(self, width, height, renderer, consider)\u001b[0m\n\u001b[1;32m   1167\u001b[0m \u001b[38;5;28;01massert\u001b[39;00m \u001b[38;5;28mself\u001b[39m\u001b[38;5;241m.\u001b[39misaxes  \u001b[38;5;66;03m# always holds, as this is only called internally\u001b[39;00m\n\u001b[1;32m   1169\u001b[0m start_time \u001b[38;5;241m=\u001b[39m time\u001b[38;5;241m.\u001b[39mperf_counter()\n\u001b[0;32m-> 1171\u001b[0m bboxes, lines, offsets \u001b[38;5;241m=\u001b[39m \u001b[38;5;28;43mself\u001b[39;49m\u001b[38;5;241;43m.\u001b[39;49m\u001b[43m_auto_legend_data\u001b[49m\u001b[43m(\u001b[49m\u001b[43m)\u001b[49m\n\u001b[1;32m   1173\u001b[0m bbox \u001b[38;5;241m=\u001b[39m Bbox\u001b[38;5;241m.\u001b[39mfrom_bounds(\u001b[38;5;241m0\u001b[39m, \u001b[38;5;241m0\u001b[39m, width, height)\n\u001b[1;32m   1174\u001b[0m \u001b[38;5;28;01mif\u001b[39;00m consider \u001b[38;5;129;01mis\u001b[39;00m \u001b[38;5;28;01mNone\u001b[39;00m:\n",
      "File \u001b[0;32m~/lab/EnergyPlus-OOEP/.venv/lib/python3.11/site-packages/matplotlib/legend.py:974\u001b[0m, in \u001b[0;36mLegend._auto_legend_data\u001b[0;34m(self)\u001b[0m\n\u001b[1;32m    971\u001b[0m \u001b[38;5;28;01mfor\u001b[39;00m artist \u001b[38;5;129;01min\u001b[39;00m \u001b[38;5;28mself\u001b[39m\u001b[38;5;241m.\u001b[39mparent\u001b[38;5;241m.\u001b[39m_children:\n\u001b[1;32m    972\u001b[0m     \u001b[38;5;28;01mif\u001b[39;00m \u001b[38;5;28misinstance\u001b[39m(artist, Line2D):\n\u001b[1;32m    973\u001b[0m         lines\u001b[38;5;241m.\u001b[39mappend(\n\u001b[0;32m--> 974\u001b[0m             artist\u001b[38;5;241m.\u001b[39mget_transform()\u001b[38;5;241m.\u001b[39mtransform_path(\u001b[43martist\u001b[49m\u001b[38;5;241;43m.\u001b[39;49m\u001b[43mget_path\u001b[49m\u001b[43m(\u001b[49m\u001b[43m)\u001b[49m))\n\u001b[1;32m    975\u001b[0m     \u001b[38;5;28;01melif\u001b[39;00m \u001b[38;5;28misinstance\u001b[39m(artist, Rectangle):\n\u001b[1;32m    976\u001b[0m         bboxes\u001b[38;5;241m.\u001b[39mappend(\n\u001b[1;32m    977\u001b[0m             artist\u001b[38;5;241m.\u001b[39mget_bbox()\u001b[38;5;241m.\u001b[39mtransformed(artist\u001b[38;5;241m.\u001b[39mget_data_transform()))\n",
      "File \u001b[0;32m~/lab/EnergyPlus-OOEP/.venv/lib/python3.11/site-packages/matplotlib/lines.py:1032\u001b[0m, in \u001b[0;36mLine2D.get_path\u001b[0;34m(self)\u001b[0m\n\u001b[1;32m   1030\u001b[0m \u001b[38;5;250m\u001b[39m\u001b[38;5;124;03m\"\"\"Return the `~matplotlib.path.Path` associated with this line.\"\"\"\u001b[39;00m\n\u001b[1;32m   1031\u001b[0m \u001b[38;5;28;01mif\u001b[39;00m \u001b[38;5;28mself\u001b[39m\u001b[38;5;241m.\u001b[39m_invalidy \u001b[38;5;129;01mor\u001b[39;00m \u001b[38;5;28mself\u001b[39m\u001b[38;5;241m.\u001b[39m_invalidx:\n\u001b[0;32m-> 1032\u001b[0m     \u001b[38;5;28;43mself\u001b[39;49m\u001b[38;5;241;43m.\u001b[39;49m\u001b[43mrecache\u001b[49m\u001b[43m(\u001b[49m\u001b[43m)\u001b[49m\n\u001b[1;32m   1033\u001b[0m \u001b[38;5;28;01mreturn\u001b[39;00m \u001b[38;5;28mself\u001b[39m\u001b[38;5;241m.\u001b[39m_path\n",
      "File \u001b[0;32m~/lab/EnergyPlus-OOEP/.venv/lib/python3.11/site-packages/matplotlib/lines.py:678\u001b[0m, in \u001b[0;36mLine2D.recache\u001b[0;34m(self, always)\u001b[0m\n\u001b[1;32m    675\u001b[0m \u001b[38;5;28;01melse\u001b[39;00m:\n\u001b[1;32m    676\u001b[0m     y \u001b[38;5;241m=\u001b[39m \u001b[38;5;28mself\u001b[39m\u001b[38;5;241m.\u001b[39m_y\n\u001b[0;32m--> 678\u001b[0m \u001b[38;5;28mself\u001b[39m\u001b[38;5;241m.\u001b[39m_xy \u001b[38;5;241m=\u001b[39m np\u001b[38;5;241m.\u001b[39mcolumn_stack(\u001b[43mnp\u001b[49m\u001b[38;5;241;43m.\u001b[39;49m\u001b[43mbroadcast_arrays\u001b[49m\u001b[43m(\u001b[49m\u001b[43mx\u001b[49m\u001b[43m,\u001b[49m\u001b[43m \u001b[49m\u001b[43my\u001b[49m\u001b[43m)\u001b[49m)\u001b[38;5;241m.\u001b[39mastype(\u001b[38;5;28mfloat\u001b[39m)\n\u001b[1;32m    679\u001b[0m \u001b[38;5;28mself\u001b[39m\u001b[38;5;241m.\u001b[39m_x, \u001b[38;5;28mself\u001b[39m\u001b[38;5;241m.\u001b[39m_y \u001b[38;5;241m=\u001b[39m \u001b[38;5;28mself\u001b[39m\u001b[38;5;241m.\u001b[39m_xy\u001b[38;5;241m.\u001b[39mT  \u001b[38;5;66;03m# views\u001b[39;00m\n\u001b[1;32m    681\u001b[0m \u001b[38;5;28mself\u001b[39m\u001b[38;5;241m.\u001b[39m_subslice \u001b[38;5;241m=\u001b[39m \u001b[38;5;28;01mFalse\u001b[39;00m\n",
      "File \u001b[0;32m~/lab/EnergyPlus-OOEP/.venv/lib/python3.11/site-packages/numpy/lib/stride_tricks.py:540\u001b[0m, in \u001b[0;36mbroadcast_arrays\u001b[0;34m(subok, *args)\u001b[0m\n\u001b[1;32m    533\u001b[0m \u001b[38;5;66;03m# nditer is not used here to avoid the limit of 32 arrays.\u001b[39;00m\n\u001b[1;32m    534\u001b[0m \u001b[38;5;66;03m# Otherwise, something like the following one-liner would suffice:\u001b[39;00m\n\u001b[1;32m    535\u001b[0m \u001b[38;5;66;03m# return np.nditer(args, flags=['multi_index', 'zerosize_ok'],\u001b[39;00m\n\u001b[1;32m    536\u001b[0m \u001b[38;5;66;03m#                  order='C').itviews\u001b[39;00m\n\u001b[1;32m    538\u001b[0m args \u001b[38;5;241m=\u001b[39m [np\u001b[38;5;241m.\u001b[39marray(_m, copy\u001b[38;5;241m=\u001b[39m\u001b[38;5;28;01mFalse\u001b[39;00m, subok\u001b[38;5;241m=\u001b[39msubok) \u001b[38;5;28;01mfor\u001b[39;00m _m \u001b[38;5;129;01min\u001b[39;00m args]\n\u001b[0;32m--> 540\u001b[0m shape \u001b[38;5;241m=\u001b[39m \u001b[43m_broadcast_shape\u001b[49m\u001b[43m(\u001b[49m\u001b[38;5;241;43m*\u001b[39;49m\u001b[43margs\u001b[49m\u001b[43m)\u001b[49m\n\u001b[1;32m    542\u001b[0m \u001b[38;5;28;01mif\u001b[39;00m \u001b[38;5;28mall\u001b[39m(array\u001b[38;5;241m.\u001b[39mshape \u001b[38;5;241m==\u001b[39m shape \u001b[38;5;28;01mfor\u001b[39;00m array \u001b[38;5;129;01min\u001b[39;00m args):\n\u001b[1;32m    543\u001b[0m     \u001b[38;5;66;03m# Common case where nothing needs to be broadcasted.\u001b[39;00m\n\u001b[1;32m    544\u001b[0m     \u001b[38;5;28;01mreturn\u001b[39;00m args\n",
      "File \u001b[0;32m~/lab/EnergyPlus-OOEP/.venv/lib/python3.11/site-packages/numpy/lib/stride_tricks.py:422\u001b[0m, in \u001b[0;36m_broadcast_shape\u001b[0;34m(*args)\u001b[0m\n\u001b[1;32m    417\u001b[0m \u001b[38;5;250m\u001b[39m\u001b[38;5;124;03m\"\"\"Returns the shape of the arrays that would result from broadcasting the\u001b[39;00m\n\u001b[1;32m    418\u001b[0m \u001b[38;5;124;03msupplied arrays against each other.\u001b[39;00m\n\u001b[1;32m    419\u001b[0m \u001b[38;5;124;03m\"\"\"\u001b[39;00m\n\u001b[1;32m    420\u001b[0m \u001b[38;5;66;03m# use the old-iterator because np.nditer does not handle size 0 arrays\u001b[39;00m\n\u001b[1;32m    421\u001b[0m \u001b[38;5;66;03m# consistently\u001b[39;00m\n\u001b[0;32m--> 422\u001b[0m b \u001b[38;5;241m=\u001b[39m \u001b[43mnp\u001b[49m\u001b[38;5;241;43m.\u001b[39;49m\u001b[43mbroadcast\u001b[49m\u001b[43m(\u001b[49m\u001b[38;5;241;43m*\u001b[39;49m\u001b[43margs\u001b[49m\u001b[43m[\u001b[49m\u001b[43m:\u001b[49m\u001b[38;5;241;43m32\u001b[39;49m\u001b[43m]\u001b[49m\u001b[43m)\u001b[49m\n\u001b[1;32m    423\u001b[0m \u001b[38;5;66;03m# unfortunately, it cannot handle 32 or more arguments directly\u001b[39;00m\n\u001b[1;32m    424\u001b[0m \u001b[38;5;28;01mfor\u001b[39;00m pos \u001b[38;5;129;01min\u001b[39;00m \u001b[38;5;28mrange\u001b[39m(\u001b[38;5;241m32\u001b[39m, \u001b[38;5;28mlen\u001b[39m(args), \u001b[38;5;241m31\u001b[39m):\n\u001b[1;32m    425\u001b[0m     \u001b[38;5;66;03m# ironically, np.broadcast does not properly handle np.broadcast\u001b[39;00m\n\u001b[1;32m    426\u001b[0m     \u001b[38;5;66;03m# objects (it treats them as scalars)\u001b[39;00m\n\u001b[1;32m    427\u001b[0m     \u001b[38;5;66;03m# use broadcasting to avoid allocating the full array\u001b[39;00m\n",
      "\u001b[0;31mValueError\u001b[0m: shape mismatch: objects cannot be broadcast to a single shape.  Mismatch is between arg 0 with shape (500,) and arg 1 with shape (501,)."
     ]
    },
    {
     "ename": "ValueError",
     "evalue": "shape mismatch: objects cannot be broadcast to a single shape.  Mismatch is between arg 0 with shape (500,) and arg 1 with shape (501,).",
     "output_type": "error",
     "traceback": [
      "\u001b[0;31m---------------------------------------------------------------------------\u001b[0m",
      "\u001b[0;31mValueError\u001b[0m                                Traceback (most recent call last)",
      "File \u001b[0;32m~/lab/EnergyPlus-OOEP/.venv/lib/python3.11/site-packages/ipympl/backend_nbagg.py:279\u001b[0m, in \u001b[0;36mCanvas._handle_message\u001b[0;34m(self, object, content, buffers)\u001b[0m\n\u001b[1;32m    276\u001b[0m     \u001b[38;5;28mself\u001b[39m\u001b[38;5;241m.\u001b[39mmanager\u001b[38;5;241m.\u001b[39mhandle_json(content)\n\u001b[1;32m    278\u001b[0m \u001b[38;5;28;01melse\u001b[39;00m:\n\u001b[0;32m--> 279\u001b[0m     \u001b[38;5;28;43mself\u001b[39;49m\u001b[38;5;241;43m.\u001b[39;49m\u001b[43mmanager\u001b[49m\u001b[38;5;241;43m.\u001b[39;49m\u001b[43mhandle_json\u001b[49m\u001b[43m(\u001b[49m\u001b[43mcontent\u001b[49m\u001b[43m)\u001b[49m\n",
      "File \u001b[0;32m~/lab/EnergyPlus-OOEP/.venv/lib/python3.11/site-packages/matplotlib/backends/backend_webagg_core.py:464\u001b[0m, in \u001b[0;36mFigureManagerWebAgg.handle_json\u001b[0;34m(self, content)\u001b[0m\n\u001b[1;32m    463\u001b[0m \u001b[38;5;28;01mdef\u001b[39;00m \u001b[38;5;21mhandle_json\u001b[39m(\u001b[38;5;28mself\u001b[39m, content):\n\u001b[0;32m--> 464\u001b[0m     \u001b[38;5;28;43mself\u001b[39;49m\u001b[38;5;241;43m.\u001b[39;49m\u001b[43mcanvas\u001b[49m\u001b[38;5;241;43m.\u001b[39;49m\u001b[43mhandle_event\u001b[49m\u001b[43m(\u001b[49m\u001b[43mcontent\u001b[49m\u001b[43m)\u001b[49m\n",
      "File \u001b[0;32m~/lab/EnergyPlus-OOEP/.venv/lib/python3.11/site-packages/matplotlib/backends/backend_webagg_core.py:264\u001b[0m, in \u001b[0;36mFigureCanvasWebAggCore.handle_event\u001b[0;34m(self, event)\u001b[0m\n\u001b[1;32m    261\u001b[0m e_type \u001b[38;5;241m=\u001b[39m event[\u001b[38;5;124m'\u001b[39m\u001b[38;5;124mtype\u001b[39m\u001b[38;5;124m'\u001b[39m]\n\u001b[1;32m    262\u001b[0m handler \u001b[38;5;241m=\u001b[39m \u001b[38;5;28mgetattr\u001b[39m(\u001b[38;5;28mself\u001b[39m, \u001b[38;5;124mf\u001b[39m\u001b[38;5;124m'\u001b[39m\u001b[38;5;124mhandle_\u001b[39m\u001b[38;5;132;01m{\u001b[39;00me_type\u001b[38;5;132;01m}\u001b[39;00m\u001b[38;5;124m'\u001b[39m,\n\u001b[1;32m    263\u001b[0m                   \u001b[38;5;28mself\u001b[39m\u001b[38;5;241m.\u001b[39mhandle_unknown_event)\n\u001b[0;32m--> 264\u001b[0m \u001b[38;5;28;01mreturn\u001b[39;00m \u001b[43mhandler\u001b[49m\u001b[43m(\u001b[49m\u001b[43mevent\u001b[49m\u001b[43m)\u001b[49m\n",
      "File \u001b[0;32m~/lab/EnergyPlus-OOEP/.venv/lib/python3.11/site-packages/matplotlib/backends/backend_webagg_core.py:279\u001b[0m, in \u001b[0;36mFigureCanvasWebAggCore.handle_draw\u001b[0;34m(self, event)\u001b[0m\n\u001b[1;32m    278\u001b[0m \u001b[38;5;28;01mdef\u001b[39;00m \u001b[38;5;21mhandle_draw\u001b[39m(\u001b[38;5;28mself\u001b[39m, event):\n\u001b[0;32m--> 279\u001b[0m     \u001b[38;5;28;43mself\u001b[39;49m\u001b[38;5;241;43m.\u001b[39;49m\u001b[43mdraw\u001b[49m\u001b[43m(\u001b[49m\u001b[43m)\u001b[49m\n",
      "File \u001b[0;32m~/lab/EnergyPlus-OOEP/.venv/lib/python3.11/site-packages/matplotlib/backends/backend_webagg_core.py:189\u001b[0m, in \u001b[0;36mFigureCanvasWebAggCore.draw\u001b[0;34m(self)\u001b[0m\n\u001b[1;32m    187\u001b[0m \u001b[38;5;28mself\u001b[39m\u001b[38;5;241m.\u001b[39m_png_is_old \u001b[38;5;241m=\u001b[39m \u001b[38;5;28;01mTrue\u001b[39;00m\n\u001b[1;32m    188\u001b[0m \u001b[38;5;28;01mtry\u001b[39;00m:\n\u001b[0;32m--> 189\u001b[0m     \u001b[38;5;28;43msuper\u001b[39;49m\u001b[43m(\u001b[49m\u001b[43m)\u001b[49m\u001b[38;5;241;43m.\u001b[39;49m\u001b[43mdraw\u001b[49m\u001b[43m(\u001b[49m\u001b[43m)\u001b[49m\n\u001b[1;32m    190\u001b[0m \u001b[38;5;28;01mfinally\u001b[39;00m:\n\u001b[1;32m    191\u001b[0m     \u001b[38;5;28mself\u001b[39m\u001b[38;5;241m.\u001b[39mmanager\u001b[38;5;241m.\u001b[39mrefresh_all()\n",
      "File \u001b[0;32m~/lab/EnergyPlus-OOEP/.venv/lib/python3.11/site-packages/matplotlib/backends/backend_agg.py:388\u001b[0m, in \u001b[0;36mFigureCanvasAgg.draw\u001b[0;34m(self)\u001b[0m\n\u001b[1;32m    385\u001b[0m \u001b[38;5;66;03m# Acquire a lock on the shared font cache.\u001b[39;00m\n\u001b[1;32m    386\u001b[0m \u001b[38;5;28;01mwith\u001b[39;00m (\u001b[38;5;28mself\u001b[39m\u001b[38;5;241m.\u001b[39mtoolbar\u001b[38;5;241m.\u001b[39m_wait_cursor_for_draw_cm() \u001b[38;5;28;01mif\u001b[39;00m \u001b[38;5;28mself\u001b[39m\u001b[38;5;241m.\u001b[39mtoolbar\n\u001b[1;32m    387\u001b[0m       \u001b[38;5;28;01melse\u001b[39;00m nullcontext()):\n\u001b[0;32m--> 388\u001b[0m     \u001b[38;5;28;43mself\u001b[39;49m\u001b[38;5;241;43m.\u001b[39;49m\u001b[43mfigure\u001b[49m\u001b[38;5;241;43m.\u001b[39;49m\u001b[43mdraw\u001b[49m\u001b[43m(\u001b[49m\u001b[38;5;28;43mself\u001b[39;49m\u001b[38;5;241;43m.\u001b[39;49m\u001b[43mrenderer\u001b[49m\u001b[43m)\u001b[49m\n\u001b[1;32m    389\u001b[0m     \u001b[38;5;66;03m# A GUI class may be need to update a window using this draw, so\u001b[39;00m\n\u001b[1;32m    390\u001b[0m     \u001b[38;5;66;03m# don't forget to call the superclass.\u001b[39;00m\n\u001b[1;32m    391\u001b[0m     \u001b[38;5;28msuper\u001b[39m()\u001b[38;5;241m.\u001b[39mdraw()\n",
      "File \u001b[0;32m~/lab/EnergyPlus-OOEP/.venv/lib/python3.11/site-packages/matplotlib/artist.py:95\u001b[0m, in \u001b[0;36m_finalize_rasterization.<locals>.draw_wrapper\u001b[0;34m(artist, renderer, *args, **kwargs)\u001b[0m\n\u001b[1;32m     93\u001b[0m \u001b[38;5;129m@wraps\u001b[39m(draw)\n\u001b[1;32m     94\u001b[0m \u001b[38;5;28;01mdef\u001b[39;00m \u001b[38;5;21mdraw_wrapper\u001b[39m(artist, renderer, \u001b[38;5;241m*\u001b[39margs, \u001b[38;5;241m*\u001b[39m\u001b[38;5;241m*\u001b[39mkwargs):\n\u001b[0;32m---> 95\u001b[0m     result \u001b[38;5;241m=\u001b[39m \u001b[43mdraw\u001b[49m\u001b[43m(\u001b[49m\u001b[43martist\u001b[49m\u001b[43m,\u001b[49m\u001b[43m \u001b[49m\u001b[43mrenderer\u001b[49m\u001b[43m,\u001b[49m\u001b[43m \u001b[49m\u001b[38;5;241;43m*\u001b[39;49m\u001b[43margs\u001b[49m\u001b[43m,\u001b[49m\u001b[43m \u001b[49m\u001b[38;5;241;43m*\u001b[39;49m\u001b[38;5;241;43m*\u001b[39;49m\u001b[43mkwargs\u001b[49m\u001b[43m)\u001b[49m\n\u001b[1;32m     96\u001b[0m     \u001b[38;5;28;01mif\u001b[39;00m renderer\u001b[38;5;241m.\u001b[39m_rasterizing:\n\u001b[1;32m     97\u001b[0m         renderer\u001b[38;5;241m.\u001b[39mstop_rasterizing()\n",
      "File \u001b[0;32m~/lab/EnergyPlus-OOEP/.venv/lib/python3.11/site-packages/matplotlib/artist.py:72\u001b[0m, in \u001b[0;36mallow_rasterization.<locals>.draw_wrapper\u001b[0;34m(artist, renderer)\u001b[0m\n\u001b[1;32m     69\u001b[0m     \u001b[38;5;28;01mif\u001b[39;00m artist\u001b[38;5;241m.\u001b[39mget_agg_filter() \u001b[38;5;129;01mis\u001b[39;00m \u001b[38;5;129;01mnot\u001b[39;00m \u001b[38;5;28;01mNone\u001b[39;00m:\n\u001b[1;32m     70\u001b[0m         renderer\u001b[38;5;241m.\u001b[39mstart_filter()\n\u001b[0;32m---> 72\u001b[0m     \u001b[38;5;28;01mreturn\u001b[39;00m \u001b[43mdraw\u001b[49m\u001b[43m(\u001b[49m\u001b[43martist\u001b[49m\u001b[43m,\u001b[49m\u001b[43m \u001b[49m\u001b[43mrenderer\u001b[49m\u001b[43m)\u001b[49m\n\u001b[1;32m     73\u001b[0m \u001b[38;5;28;01mfinally\u001b[39;00m:\n\u001b[1;32m     74\u001b[0m     \u001b[38;5;28;01mif\u001b[39;00m artist\u001b[38;5;241m.\u001b[39mget_agg_filter() \u001b[38;5;129;01mis\u001b[39;00m \u001b[38;5;129;01mnot\u001b[39;00m \u001b[38;5;28;01mNone\u001b[39;00m:\n",
      "File \u001b[0;32m~/lab/EnergyPlus-OOEP/.venv/lib/python3.11/site-packages/matplotlib/figure.py:3154\u001b[0m, in \u001b[0;36mFigure.draw\u001b[0;34m(self, renderer)\u001b[0m\n\u001b[1;32m   3151\u001b[0m         \u001b[38;5;66;03m# ValueError can occur when resizing a window.\u001b[39;00m\n\u001b[1;32m   3153\u001b[0m \u001b[38;5;28mself\u001b[39m\u001b[38;5;241m.\u001b[39mpatch\u001b[38;5;241m.\u001b[39mdraw(renderer)\n\u001b[0;32m-> 3154\u001b[0m \u001b[43mmimage\u001b[49m\u001b[38;5;241;43m.\u001b[39;49m\u001b[43m_draw_list_compositing_images\u001b[49m\u001b[43m(\u001b[49m\n\u001b[1;32m   3155\u001b[0m \u001b[43m    \u001b[49m\u001b[43mrenderer\u001b[49m\u001b[43m,\u001b[49m\u001b[43m \u001b[49m\u001b[38;5;28;43mself\u001b[39;49m\u001b[43m,\u001b[49m\u001b[43m \u001b[49m\u001b[43martists\u001b[49m\u001b[43m,\u001b[49m\u001b[43m \u001b[49m\u001b[38;5;28;43mself\u001b[39;49m\u001b[38;5;241;43m.\u001b[39;49m\u001b[43msuppressComposite\u001b[49m\u001b[43m)\u001b[49m\n\u001b[1;32m   3157\u001b[0m \u001b[38;5;28;01mfor\u001b[39;00m sfig \u001b[38;5;129;01min\u001b[39;00m \u001b[38;5;28mself\u001b[39m\u001b[38;5;241m.\u001b[39msubfigs:\n\u001b[1;32m   3158\u001b[0m     sfig\u001b[38;5;241m.\u001b[39mdraw(renderer)\n",
      "File \u001b[0;32m~/lab/EnergyPlus-OOEP/.venv/lib/python3.11/site-packages/matplotlib/image.py:132\u001b[0m, in \u001b[0;36m_draw_list_compositing_images\u001b[0;34m(renderer, parent, artists, suppress_composite)\u001b[0m\n\u001b[1;32m    130\u001b[0m \u001b[38;5;28;01mif\u001b[39;00m not_composite \u001b[38;5;129;01mor\u001b[39;00m \u001b[38;5;129;01mnot\u001b[39;00m has_images:\n\u001b[1;32m    131\u001b[0m     \u001b[38;5;28;01mfor\u001b[39;00m a \u001b[38;5;129;01min\u001b[39;00m artists:\n\u001b[0;32m--> 132\u001b[0m         \u001b[43ma\u001b[49m\u001b[38;5;241;43m.\u001b[39;49m\u001b[43mdraw\u001b[49m\u001b[43m(\u001b[49m\u001b[43mrenderer\u001b[49m\u001b[43m)\u001b[49m\n\u001b[1;32m    133\u001b[0m \u001b[38;5;28;01melse\u001b[39;00m:\n\u001b[1;32m    134\u001b[0m     \u001b[38;5;66;03m# Composite any adjacent images together\u001b[39;00m\n\u001b[1;32m    135\u001b[0m     image_group \u001b[38;5;241m=\u001b[39m []\n",
      "File \u001b[0;32m~/lab/EnergyPlus-OOEP/.venv/lib/python3.11/site-packages/matplotlib/artist.py:72\u001b[0m, in \u001b[0;36mallow_rasterization.<locals>.draw_wrapper\u001b[0;34m(artist, renderer)\u001b[0m\n\u001b[1;32m     69\u001b[0m     \u001b[38;5;28;01mif\u001b[39;00m artist\u001b[38;5;241m.\u001b[39mget_agg_filter() \u001b[38;5;129;01mis\u001b[39;00m \u001b[38;5;129;01mnot\u001b[39;00m \u001b[38;5;28;01mNone\u001b[39;00m:\n\u001b[1;32m     70\u001b[0m         renderer\u001b[38;5;241m.\u001b[39mstart_filter()\n\u001b[0;32m---> 72\u001b[0m     \u001b[38;5;28;01mreturn\u001b[39;00m \u001b[43mdraw\u001b[49m\u001b[43m(\u001b[49m\u001b[43martist\u001b[49m\u001b[43m,\u001b[49m\u001b[43m \u001b[49m\u001b[43mrenderer\u001b[49m\u001b[43m)\u001b[49m\n\u001b[1;32m     73\u001b[0m \u001b[38;5;28;01mfinally\u001b[39;00m:\n\u001b[1;32m     74\u001b[0m     \u001b[38;5;28;01mif\u001b[39;00m artist\u001b[38;5;241m.\u001b[39mget_agg_filter() \u001b[38;5;129;01mis\u001b[39;00m \u001b[38;5;129;01mnot\u001b[39;00m \u001b[38;5;28;01mNone\u001b[39;00m:\n",
      "File \u001b[0;32m~/lab/EnergyPlus-OOEP/.venv/lib/python3.11/site-packages/matplotlib/axes/_base.py:3070\u001b[0m, in \u001b[0;36m_AxesBase.draw\u001b[0;34m(self, renderer)\u001b[0m\n\u001b[1;32m   3067\u001b[0m \u001b[38;5;28;01mif\u001b[39;00m artists_rasterized:\n\u001b[1;32m   3068\u001b[0m     _draw_rasterized(\u001b[38;5;28mself\u001b[39m\u001b[38;5;241m.\u001b[39mfigure, artists_rasterized, renderer)\n\u001b[0;32m-> 3070\u001b[0m \u001b[43mmimage\u001b[49m\u001b[38;5;241;43m.\u001b[39;49m\u001b[43m_draw_list_compositing_images\u001b[49m\u001b[43m(\u001b[49m\n\u001b[1;32m   3071\u001b[0m \u001b[43m    \u001b[49m\u001b[43mrenderer\u001b[49m\u001b[43m,\u001b[49m\u001b[43m \u001b[49m\u001b[38;5;28;43mself\u001b[39;49m\u001b[43m,\u001b[49m\u001b[43m \u001b[49m\u001b[43martists\u001b[49m\u001b[43m,\u001b[49m\u001b[43m \u001b[49m\u001b[38;5;28;43mself\u001b[39;49m\u001b[38;5;241;43m.\u001b[39;49m\u001b[43mfigure\u001b[49m\u001b[38;5;241;43m.\u001b[39;49m\u001b[43msuppressComposite\u001b[49m\u001b[43m)\u001b[49m\n\u001b[1;32m   3073\u001b[0m renderer\u001b[38;5;241m.\u001b[39mclose_group(\u001b[38;5;124m'\u001b[39m\u001b[38;5;124maxes\u001b[39m\u001b[38;5;124m'\u001b[39m)\n\u001b[1;32m   3074\u001b[0m \u001b[38;5;28mself\u001b[39m\u001b[38;5;241m.\u001b[39mstale \u001b[38;5;241m=\u001b[39m \u001b[38;5;28;01mFalse\u001b[39;00m\n",
      "File \u001b[0;32m~/lab/EnergyPlus-OOEP/.venv/lib/python3.11/site-packages/matplotlib/image.py:132\u001b[0m, in \u001b[0;36m_draw_list_compositing_images\u001b[0;34m(renderer, parent, artists, suppress_composite)\u001b[0m\n\u001b[1;32m    130\u001b[0m \u001b[38;5;28;01mif\u001b[39;00m not_composite \u001b[38;5;129;01mor\u001b[39;00m \u001b[38;5;129;01mnot\u001b[39;00m has_images:\n\u001b[1;32m    131\u001b[0m     \u001b[38;5;28;01mfor\u001b[39;00m a \u001b[38;5;129;01min\u001b[39;00m artists:\n\u001b[0;32m--> 132\u001b[0m         \u001b[43ma\u001b[49m\u001b[38;5;241;43m.\u001b[39;49m\u001b[43mdraw\u001b[49m\u001b[43m(\u001b[49m\u001b[43mrenderer\u001b[49m\u001b[43m)\u001b[49m\n\u001b[1;32m    133\u001b[0m \u001b[38;5;28;01melse\u001b[39;00m:\n\u001b[1;32m    134\u001b[0m     \u001b[38;5;66;03m# Composite any adjacent images together\u001b[39;00m\n\u001b[1;32m    135\u001b[0m     image_group \u001b[38;5;241m=\u001b[39m []\n",
      "File \u001b[0;32m~/lab/EnergyPlus-OOEP/.venv/lib/python3.11/site-packages/matplotlib/artist.py:72\u001b[0m, in \u001b[0;36mallow_rasterization.<locals>.draw_wrapper\u001b[0;34m(artist, renderer)\u001b[0m\n\u001b[1;32m     69\u001b[0m     \u001b[38;5;28;01mif\u001b[39;00m artist\u001b[38;5;241m.\u001b[39mget_agg_filter() \u001b[38;5;129;01mis\u001b[39;00m \u001b[38;5;129;01mnot\u001b[39;00m \u001b[38;5;28;01mNone\u001b[39;00m:\n\u001b[1;32m     70\u001b[0m         renderer\u001b[38;5;241m.\u001b[39mstart_filter()\n\u001b[0;32m---> 72\u001b[0m     \u001b[38;5;28;01mreturn\u001b[39;00m \u001b[43mdraw\u001b[49m\u001b[43m(\u001b[49m\u001b[43martist\u001b[49m\u001b[43m,\u001b[49m\u001b[43m \u001b[49m\u001b[43mrenderer\u001b[49m\u001b[43m)\u001b[49m\n\u001b[1;32m     73\u001b[0m \u001b[38;5;28;01mfinally\u001b[39;00m:\n\u001b[1;32m     74\u001b[0m     \u001b[38;5;28;01mif\u001b[39;00m artist\u001b[38;5;241m.\u001b[39mget_agg_filter() \u001b[38;5;129;01mis\u001b[39;00m \u001b[38;5;129;01mnot\u001b[39;00m \u001b[38;5;28;01mNone\u001b[39;00m:\n",
      "File \u001b[0;32m~/lab/EnergyPlus-OOEP/.venv/lib/python3.11/site-packages/matplotlib/lines.py:746\u001b[0m, in \u001b[0;36mLine2D.draw\u001b[0;34m(self, renderer)\u001b[0m\n\u001b[1;32m    743\u001b[0m     \u001b[38;5;28;01mreturn\u001b[39;00m\n\u001b[1;32m    745\u001b[0m \u001b[38;5;28;01mif\u001b[39;00m \u001b[38;5;28mself\u001b[39m\u001b[38;5;241m.\u001b[39m_invalidy \u001b[38;5;129;01mor\u001b[39;00m \u001b[38;5;28mself\u001b[39m\u001b[38;5;241m.\u001b[39m_invalidx:\n\u001b[0;32m--> 746\u001b[0m     \u001b[38;5;28;43mself\u001b[39;49m\u001b[38;5;241;43m.\u001b[39;49m\u001b[43mrecache\u001b[49m\u001b[43m(\u001b[49m\u001b[43m)\u001b[49m\n\u001b[1;32m    747\u001b[0m \u001b[38;5;28mself\u001b[39m\u001b[38;5;241m.\u001b[39mind_offset \u001b[38;5;241m=\u001b[39m \u001b[38;5;241m0\u001b[39m  \u001b[38;5;66;03m# Needed for contains() method.\u001b[39;00m\n\u001b[1;32m    748\u001b[0m \u001b[38;5;28;01mif\u001b[39;00m \u001b[38;5;28mself\u001b[39m\u001b[38;5;241m.\u001b[39m_subslice \u001b[38;5;129;01mand\u001b[39;00m \u001b[38;5;28mself\u001b[39m\u001b[38;5;241m.\u001b[39maxes:\n",
      "File \u001b[0;32m~/lab/EnergyPlus-OOEP/.venv/lib/python3.11/site-packages/matplotlib/lines.py:678\u001b[0m, in \u001b[0;36mLine2D.recache\u001b[0;34m(self, always)\u001b[0m\n\u001b[1;32m    675\u001b[0m \u001b[38;5;28;01melse\u001b[39;00m:\n\u001b[1;32m    676\u001b[0m     y \u001b[38;5;241m=\u001b[39m \u001b[38;5;28mself\u001b[39m\u001b[38;5;241m.\u001b[39m_y\n\u001b[0;32m--> 678\u001b[0m \u001b[38;5;28mself\u001b[39m\u001b[38;5;241m.\u001b[39m_xy \u001b[38;5;241m=\u001b[39m np\u001b[38;5;241m.\u001b[39mcolumn_stack(\u001b[43mnp\u001b[49m\u001b[38;5;241;43m.\u001b[39;49m\u001b[43mbroadcast_arrays\u001b[49m\u001b[43m(\u001b[49m\u001b[43mx\u001b[49m\u001b[43m,\u001b[49m\u001b[43m \u001b[49m\u001b[43my\u001b[49m\u001b[43m)\u001b[49m)\u001b[38;5;241m.\u001b[39mastype(\u001b[38;5;28mfloat\u001b[39m)\n\u001b[1;32m    679\u001b[0m \u001b[38;5;28mself\u001b[39m\u001b[38;5;241m.\u001b[39m_x, \u001b[38;5;28mself\u001b[39m\u001b[38;5;241m.\u001b[39m_y \u001b[38;5;241m=\u001b[39m \u001b[38;5;28mself\u001b[39m\u001b[38;5;241m.\u001b[39m_xy\u001b[38;5;241m.\u001b[39mT  \u001b[38;5;66;03m# views\u001b[39;00m\n\u001b[1;32m    681\u001b[0m \u001b[38;5;28mself\u001b[39m\u001b[38;5;241m.\u001b[39m_subslice \u001b[38;5;241m=\u001b[39m \u001b[38;5;28;01mFalse\u001b[39;00m\n",
      "File \u001b[0;32m~/lab/EnergyPlus-OOEP/.venv/lib/python3.11/site-packages/numpy/lib/stride_tricks.py:540\u001b[0m, in \u001b[0;36mbroadcast_arrays\u001b[0;34m(subok, *args)\u001b[0m\n\u001b[1;32m    533\u001b[0m \u001b[38;5;66;03m# nditer is not used here to avoid the limit of 32 arrays.\u001b[39;00m\n\u001b[1;32m    534\u001b[0m \u001b[38;5;66;03m# Otherwise, something like the following one-liner would suffice:\u001b[39;00m\n\u001b[1;32m    535\u001b[0m \u001b[38;5;66;03m# return np.nditer(args, flags=['multi_index', 'zerosize_ok'],\u001b[39;00m\n\u001b[1;32m    536\u001b[0m \u001b[38;5;66;03m#                  order='C').itviews\u001b[39;00m\n\u001b[1;32m    538\u001b[0m args \u001b[38;5;241m=\u001b[39m [np\u001b[38;5;241m.\u001b[39marray(_m, copy\u001b[38;5;241m=\u001b[39m\u001b[38;5;28;01mFalse\u001b[39;00m, subok\u001b[38;5;241m=\u001b[39msubok) \u001b[38;5;28;01mfor\u001b[39;00m _m \u001b[38;5;129;01min\u001b[39;00m args]\n\u001b[0;32m--> 540\u001b[0m shape \u001b[38;5;241m=\u001b[39m \u001b[43m_broadcast_shape\u001b[49m\u001b[43m(\u001b[49m\u001b[38;5;241;43m*\u001b[39;49m\u001b[43margs\u001b[49m\u001b[43m)\u001b[49m\n\u001b[1;32m    542\u001b[0m \u001b[38;5;28;01mif\u001b[39;00m \u001b[38;5;28mall\u001b[39m(array\u001b[38;5;241m.\u001b[39mshape \u001b[38;5;241m==\u001b[39m shape \u001b[38;5;28;01mfor\u001b[39;00m array \u001b[38;5;129;01min\u001b[39;00m args):\n\u001b[1;32m    543\u001b[0m     \u001b[38;5;66;03m# Common case where nothing needs to be broadcasted.\u001b[39;00m\n\u001b[1;32m    544\u001b[0m     \u001b[38;5;28;01mreturn\u001b[39;00m args\n",
      "File \u001b[0;32m~/lab/EnergyPlus-OOEP/.venv/lib/python3.11/site-packages/numpy/lib/stride_tricks.py:422\u001b[0m, in \u001b[0;36m_broadcast_shape\u001b[0;34m(*args)\u001b[0m\n\u001b[1;32m    417\u001b[0m \u001b[38;5;250m\u001b[39m\u001b[38;5;124;03m\"\"\"Returns the shape of the arrays that would result from broadcasting the\u001b[39;00m\n\u001b[1;32m    418\u001b[0m \u001b[38;5;124;03msupplied arrays against each other.\u001b[39;00m\n\u001b[1;32m    419\u001b[0m \u001b[38;5;124;03m\"\"\"\u001b[39;00m\n\u001b[1;32m    420\u001b[0m \u001b[38;5;66;03m# use the old-iterator because np.nditer does not handle size 0 arrays\u001b[39;00m\n\u001b[1;32m    421\u001b[0m \u001b[38;5;66;03m# consistently\u001b[39;00m\n\u001b[0;32m--> 422\u001b[0m b \u001b[38;5;241m=\u001b[39m \u001b[43mnp\u001b[49m\u001b[38;5;241;43m.\u001b[39;49m\u001b[43mbroadcast\u001b[49m\u001b[43m(\u001b[49m\u001b[38;5;241;43m*\u001b[39;49m\u001b[43margs\u001b[49m\u001b[43m[\u001b[49m\u001b[43m:\u001b[49m\u001b[38;5;241;43m32\u001b[39;49m\u001b[43m]\u001b[49m\u001b[43m)\u001b[49m\n\u001b[1;32m    423\u001b[0m \u001b[38;5;66;03m# unfortunately, it cannot handle 32 or more arguments directly\u001b[39;00m\n\u001b[1;32m    424\u001b[0m \u001b[38;5;28;01mfor\u001b[39;00m pos \u001b[38;5;129;01min\u001b[39;00m \u001b[38;5;28mrange\u001b[39m(\u001b[38;5;241m32\u001b[39m, \u001b[38;5;28mlen\u001b[39m(args), \u001b[38;5;241m31\u001b[39m):\n\u001b[1;32m    425\u001b[0m     \u001b[38;5;66;03m# ironically, np.broadcast does not properly handle np.broadcast\u001b[39;00m\n\u001b[1;32m    426\u001b[0m     \u001b[38;5;66;03m# objects (it treats them as scalars)\u001b[39;00m\n\u001b[1;32m    427\u001b[0m     \u001b[38;5;66;03m# use broadcasting to avoid allocating the full array\u001b[39;00m\n",
      "\u001b[0;31mValueError\u001b[0m: shape mismatch: objects cannot be broadcast to a single shape.  Mismatch is between arg 0 with shape (500,) and arg 1 with shape (501,)."
     ]
    }
   ],
   "source": [
    "%matplotlib widget\n",
    "\n",
    "from energyplus.ooep.addons.display.viz import VariableTrend2DChart\n",
    "\n",
    "from energyplus.ooep.addons.display import ProgressProvider\n",
    "\n",
    "from energyplus.ooep import (\n",
    "    Simulator,\n",
    "    Model,\n",
    "    Weather,\n",
    "    Report,\n",
    ")\n",
    "from energyplus.ooep import (\n",
    "    WallClock,\n",
    "    OutputVariable,\n",
    ")\n",
    "\n",
    "from energyplus.dataset.basic import dataset as _epds_\n",
    "\n",
    "\n",
    "simulator = Simulator().add(\n",
    "    ProgressProvider(),\n",
    "    #LogProvider(),\n",
    "    #var_line2d := (\n",
    "    #    VariableLine2DChart(event_ref='begin_zone_timestep_before_init_heat_balance')\n",
    "    #    .add((\n",
    "    #        WallClock.Ref(), \n",
    "    #        OutputVariable.Ref(\n",
    "    #            type='People Air Temperature',\n",
    "    #            key='CORE_MID',\n",
    "    #        ),\n",
    "    #    ), label='test', update_method='extend')\n",
    "    #    .legend()\n",
    "    #),\n",
    "    # TODO\n",
    "    var_trend := (\n",
    "        VariableTrend2DChart(event_ref='begin_zone_timestep_before_init_heat_balance')\n",
    "            .add(\n",
    "                OutputVariable.Ref(\n",
    "                    type='People Air Temperature',\n",
    "                    key='CORE_MID',\n",
    "                )\n",
    "            )\n",
    "            .add(lambda: 1)\n",
    "            .legend()\n",
    "    ),\n",
    ")\n",
    "\n",
    "await simulator.awaitable.run(\n",
    "    input=Simulator.InputSpecs(\n",
    "        model=Model().open(\n",
    "            _epds_.models / 'ASHRAE901_OfficeLarge_STD2019_Denver_Chiller205_Detailed.idf'\n",
    "        ),\n",
    "        weather=Weather().open(_epds_.weathers / 'USA_FL_Tampa.Intl.AP.722110_TMY3.epw'),\n",
    "    ),\n",
    "    output=Simulator.OutputSpecs(\n",
    "        report=Report().open('.ooep-report-9e1287d2-8e75-4cf5-bbc5-f76580b56a69'),\n",
    "    ),\n",
    "    options=Simulator.RuntimeOptions(\n",
    "        #design_day=True,\n",
    "    ),\n",
    ")\n",
    "\n"
   ]
  },
  {
   "cell_type": "code",
   "execution_count": 23,
   "metadata": {},
   "outputs": [
    {
     "data": {
      "text/plain": [
       "<energyplus.ooep.components.variables.VariableManager.KeysView at 0x7f1db4399a50>"
      ]
     },
     "execution_count": 23,
     "metadata": {},
     "output_type": "execute_result"
    }
   ],
   "source": [
    "simulator.variables.keys().group(type)[OutputVariable.Ref]"
   ]
  },
  {
   "cell_type": "code",
   "execution_count": null,
   "metadata": {},
   "outputs": [],
   "source": [
    "#%pip install --upgrade matplotlib ipympl"
   ]
  },
  {
   "cell_type": "code",
   "execution_count": null,
   "metadata": {},
   "outputs": [],
   "source": [
    "var_line2d.figure.canvas.draw()"
   ]
  },
  {
   "cell_type": "code",
   "execution_count": null,
   "metadata": {},
   "outputs": [],
   "source": [
    "#simulator.stop()"
   ]
  },
  {
   "cell_type": "code",
   "execution_count": null,
   "metadata": {},
   "outputs": [],
   "source": [
    "var_line2d.lines[0].artist"
   ]
  },
  {
   "cell_type": "code",
   "execution_count": null,
   "metadata": {},
   "outputs": [],
   "source": [
    "var_line2d.update()"
   ]
  },
  {
   "cell_type": "code",
   "execution_count": null,
   "metadata": {},
   "outputs": [],
   "source": [
    "var_line2d.lines[0].artist.get_data()"
   ]
  },
  {
   "cell_type": "code",
   "execution_count": null,
   "metadata": {},
   "outputs": [],
   "source": [
    "#var_line2d.lines[0].artist.get_data()[1].shape\n"
   ]
  },
  {
   "cell_type": "code",
   "execution_count": null,
   "metadata": {},
   "outputs": [],
   "source": [
    "#var_line2d.update()"
   ]
  },
  {
   "cell_type": "code",
   "execution_count": null,
   "metadata": {},
   "outputs": [],
   "source": [
    "def TODO_mv():\n",
    "    import matplotlib.pyplot as _plt_\n",
    "\n",
    "    fig, ax = _plt_.subplots()\n",
    "    line, = ax.plot([])\n",
    "    for x in range(10):\n",
    "        Line2DView(line).extend((x, x**2))\n",
    "        ax.relim()\n",
    "        ax.autoscale_view()\n",
    "        #fig.canvas.draw()\n",
    "\n",
    "    Line2DView(line).value"
   ]
  },
  {
   "cell_type": "code",
   "execution_count": null,
   "metadata": {},
   "outputs": [],
   "source": []
  },
  {
   "cell_type": "code",
   "execution_count": null,
   "metadata": {},
   "outputs": [],
   "source": [
    "class FigureProvider:\n",
    "    pass\n",
    "\n",
    "    def _TODO(self):\n",
    "        pass"
   ]
  },
  {
   "cell_type": "code",
   "execution_count": null,
   "metadata": {},
   "outputs": [],
   "source": [
    "import dataclasses as _dataclasses_\n",
    "\n",
    "class Trend2DVisualizer:\n",
    "    class LineRefs:\n",
    "        x: '_components_.variables.BaseVariable.Ref'\n",
    "        y: ...\n",
    "        pass\n",
    "\n",
    "    @_dataclasses_.dataclass\n",
    "    class LineInfo:\n",
    "        inst: Line2D\n",
    "        refs: 'Trend2DVisualizer.LineRefs'\n",
    "\n",
    "    line_infos: list[LineInfo]\n",
    "\n",
    "    def _TODO_add(self, refs: LineRefs):\n",
    "        # TODO\n",
    "        figure = _plt_.figure()\n",
    "\n",
    "        self.LineInfo(\n",
    "            inst=Line2D([]),\n",
    "            refs=refs,\n",
    "        )\n",
    "\n",
    "        # ... TODO add artists to ax\n",
    "        for line_info in self.line_infos:\n",
    "            Line2DView(line).extend((\n",
    "                line_info.spec.x\n",
    "            ))\n",
    "        \n",
    "        pass\n",
    "    \n",
    "    def update(self):\n",
    "        \n",
    "        pass\n",
    "    pass"
   ]
  },
  {
   "cell_type": "code",
   "execution_count": null,
   "metadata": {},
   "outputs": [],
   "source": [
    "#_plt_.gcf()\n",
    "#_plt_.figure()\n",
    "#_plt_.isinteractive()\n",
    "#fig.subplots()\n",
    "\n",
    "# ArtistProvider(...).draws_on(ax=ax)\n",
    "\n",
    "'''\n",
    "FigureProvider().axis(\n",
    "\n",
    ")\n",
    "\n",
    "'''"
   ]
  },
  {
   "cell_type": "code",
   "execution_count": null,
   "metadata": {},
   "outputs": [],
   "source": []
  },
  {
   "cell_type": "code",
   "execution_count": null,
   "metadata": {},
   "outputs": [],
   "source": [
    "from collections.abc import Callable\n",
    "\n",
    "class EventSourceBase:\n",
    "    def start(self) -> None: ...\n",
    "    def stop(self) -> None: ...\n",
    "    def add_callback(self, func: Callable, *args, **kwargs) -> Callable: ...\n",
    "    def remove_callback(self, func: Callable, *args, **kwargs) -> None: ...\n"
   ]
  }
 ],
 "metadata": {
  "kernelspec": {
   "display_name": ".venv",
   "language": "python",
   "name": "python3"
  },
  "language_info": {
   "codemirror_mode": {
    "name": "ipython",
    "version": 3
   },
   "file_extension": ".py",
   "mimetype": "text/x-python",
   "name": "python",
   "nbconvert_exporter": "python",
   "pygments_lexer": "ipython3",
   "version": "3.11.2"
  }
 },
 "nbformat": 4,
 "nbformat_minor": 2
}
