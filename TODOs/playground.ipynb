{
 "cells": [
  {
   "cell_type": "code",
   "execution_count": 7,
   "metadata": {},
   "outputs": [],
   "source": [
    "from energyplus.ooep import utils as _utils_\n",
    "\n",
    "\n",
    "assert (\n",
    "    _utils_.mappings.StructureMapper(\n",
    "        mapper_base=lambda f0, f1: (f0, f1)\n",
    "    )\n",
    ")(\n",
    "    dict(\n",
    "        a=1, \n",
    "        b=dict(a=1), \n",
    "        c=tuple((1,)), \n",
    "        d=tuple([dict(a=1), dict(a=2)])\n",
    "    ), \n",
    "    dict(\n",
    "        a=10, \n",
    "        #b=dict(a=10), \n",
    "        c=tuple((10,)), \n",
    "        d=tuple([dict(a=10), dict(a=20)])\n",
    "    ),\n",
    ") == dict(\n",
    "    a=(1, 10), \n",
    "    c=tuple(((1, 10),)), \n",
    "    d=tuple([dict(a=(1, 10)), dict(a=(2, 20))])\n",
    ")"
   ]
  },
  {
   "cell_type": "code",
   "execution_count": 7,
   "metadata": {},
   "outputs": [
    {
     "data": {
      "text/plain": [
       "{'a': (Box(0.0, 10.0, (1,), float32), Box(0.0, 10.0, (1,), float32))}"
      ]
     },
     "execution_count": 7,
     "metadata": {},
     "output_type": "execute_result"
    }
   ],
   "source": [
    "import gymnasium as _gymnasium_\n",
    "import energyplus.ooep.addons.gymnasium as _target_\n",
    "\n",
    "_target_.spaces.VariableBox\n",
    "\n",
    "_target_.spaces.SpaceStructureMapper(\n",
    "    mapper_base=lambda *args: args\n",
    ")(\n",
    "    _gymnasium_.spaces.Dict(\n",
    "        a=_target_.spaces.VariableBox(0, 10)\n",
    "    ),\n",
    "    _gymnasium_.spaces.Dict(\n",
    "        a=_target_.spaces.VariableBox(0, 10)\n",
    "    ),\n",
    "    #dict(\n",
    "    #    a=_target_.spaces.VariableBox(0, 10)\n",
    "    #),\n",
    ")"
   ]
  },
  {
   "cell_type": "code",
   "execution_count": 8,
   "metadata": {},
   "outputs": [
    {
     "data": {
      "text/plain": [
       "{0, 1, 2, 3, 4, 5, 6, 7, 8, 9}"
      ]
     },
     "execution_count": 8,
     "metadata": {},
     "output_type": "execute_result"
    }
   ],
   "source": [
    "set(range(0, 10))"
   ]
  },
  {
   "cell_type": "code",
   "execution_count": null,
   "metadata": {},
   "outputs": [],
   "source": [
    "from energyplus.ooep.utils.ipy.html import DescriptionList, Details\n",
    "\n",
    "dl = DescriptionList([\n",
    "    (1, 2),\n",
    "    (1, Details(\n",
    "        summary=DescriptionList,\n",
    "        content=DescriptionList([\n",
    "            ('never', 'gonna')\n",
    "        ]),\n",
    "    )),\n",
    "])\n",
    "\n",
    "dl\n",
    "id(dl)\n",
    "DescriptionList([\n",
    "    (1, 2),\n",
    "])\n",
    "from IPython.core.formatters import format_display_data\n",
    "formatted, metadata = format_display_data([], include=('text/plain', 'text/html',))\n",
    "formatted, metadata\n",
    "class MapView:\n",
    "    def _repr_json_(self):\n",
    "        pass\n",
    "\n",
    "    def _repr_html_(self):\n",
    "        pass\n",
    "    pass\n",
    "import IPython.display\n",
    "\n",
    "IPython.display.JSON({'a': [1, 2, 3, 4,], 'b': {'inner1': 'helloworld', 'inner2': 'foobar'}})"
   ]
  }
 ],
 "metadata": {
  "kernelspec": {
   "display_name": ".venv",
   "language": "python",
   "name": "python3"
  },
  "language_info": {
   "codemirror_mode": {
    "name": "ipython",
    "version": 3
   },
   "file_extension": ".py",
   "mimetype": "text/x-python",
   "name": "python",
   "nbconvert_exporter": "python",
   "pygments_lexer": "ipython3",
   "version": "3.11.2"
  }
 },
 "nbformat": 4,
 "nbformat_minor": 2
}
