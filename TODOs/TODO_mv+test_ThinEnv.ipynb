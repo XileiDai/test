{
 "cells": [
  {
   "cell_type": "code",
   "execution_count": 11,
   "metadata": {},
   "outputs": [],
   "source": [
    "#%pip install git+https://github.com/NTU-CCA-HVAC-OPTIM-a842a748/EnergyPlus-Datasets.git\n",
    "#%pip install tqdm ipywidgets\n",
    "#%pip install gymnasium\n",
    "#%pip install torch"
   ]
  },
  {
   "cell_type": "code",
   "execution_count": 12,
   "metadata": {},
   "outputs": [
    {
     "data": {
      "application/vnd.jupyter.widget-view+json": {
       "model_id": "8f91425e89a34393870fc27b11d5449f",
       "version_major": 2,
       "version_minor": 0
      },
      "text/plain": [
       "  0%|          | 0/100 [00:00<?, ?it/s]"
      ]
     },
     "metadata": {},
     "output_type": "display_data"
    },
    {
     "data": {
      "text/plain": [
       "<Task pending name='Task-8' coro=<Engine.run_forever() running at /home/user@AD/lab/EnergyPlus-OOEP/packages/energyplus/ooep/utils/awaitables.py:22>>"
      ]
     },
     "execution_count": 12,
     "metadata": {},
     "output_type": "execute_result"
    }
   ],
   "source": [
    "import logging as _logging_\n",
    "_logging_.basicConfig(level='INFO')\n",
    "#from energyplus.ooep.addons.logging import LogProvider\n",
    "\n",
    "import energyplus.ooep as _ooep_\n",
    "\n",
    "from energyplus.ooep.addons.display import ProgressProvider\n",
    "\n",
    "from energyplus.ooep import (\n",
    "    Simulator,\n",
    "    Model,\n",
    "    Weather,\n",
    "    Report,\n",
    ")\n",
    "\n",
    "from energyplus.dataset.basic import dataset as _epds_\n",
    "\n",
    "simulator = Simulator().add(\n",
    "    ProgressProvider(),\n",
    "    #LogProvider(),\n",
    ")\n",
    "\n",
    "await simulator.awaitable.run_forever(\n",
    "    input=Simulator.InputSpecs(\n",
    "        environment=Model().open(\n",
    "            _epds_.models / 'ASHRAE901_OfficeLarge_STD2019_Denver_Chiller205_Detailed.idf'\n",
    "        ),\n",
    "        weather=Weather().open(_epds_.weathers / 'USA_FL_Tampa.Intl.AP.722110_TMY3.epw'),\n",
    "    ),\n",
    "    options=Simulator.RuntimeOptions(\n",
    "        #design_day=True,\n",
    "    ),\n",
    ")"
   ]
  },
  {
   "cell_type": "code",
   "execution_count": 13,
   "metadata": {},
   "outputs": [],
   "source": [
    "import numpy as _numpy_\n",
    "import gymnasium as _gymnasium_\n",
    "\n",
    "from energyplus.ooep.addons.rl.gymnasium.spaces import VariableBox\n",
    "from energyplus.ooep.addons.rl.ray import SimulatorEnv\n",
    "\n",
    "from energyplus.ooep.components.variables import (\n",
    "    Actuator,\n",
    "    OutputVariable,\n",
    ")\n",
    "from energyplus.ooep.addons.rl.gymnasium.core import BaseThinEnv\n",
    "\n",
    "class TestThinEnv(BaseThinEnv):\n",
    "    @property\n",
    "    def action_space(self):\n",
    "        return _gymnasium_.spaces.Dict({\n",
    "            'thermostat': VariableBox(\n",
    "                low=20., high=30.,\n",
    "                dtype=_numpy_.float32,\n",
    "                shape=(),\n",
    "            ).bind(Actuator.Specs(\n",
    "                type='Zone Temperature Control',\n",
    "                control_type='Cooling Setpoint',\n",
    "                key='CORE_MID',\n",
    "            ))\n",
    "        })\n",
    "    \n",
    "    @property\n",
    "    def observation_space(self):\n",
    "        return _gymnasium_.spaces.Dict({\n",
    "            'temperature': VariableBox(\n",
    "                low=-_numpy_.inf, high=+_numpy_.inf,\n",
    "                dtype=_numpy_.float32,\n",
    "                shape=(),\n",
    "            ).bind(OutputVariable.Specs(\n",
    "                type='People Air Temperature',\n",
    "                key='CORE_MID',\n",
    "            )),\n",
    "        })\n",
    "    \n",
    "simulator.add(\n",
    "    env := TestThinEnv()\n",
    ")\n",
    "\n",
    "# TODO mv testing\n",
    "_ = '''\n",
    "env.observe()\n",
    "env.action_space.sample()['thermostat']\n",
    "env.act(env.action_space.sample())\n",
    "'''"
   ]
  },
  {
   "cell_type": "code",
   "execution_count": null,
   "metadata": {},
   "outputs": [],
   "source": []
  }
 ],
 "metadata": {
  "kernelspec": {
   "display_name": ".venv",
   "language": "python",
   "name": "python3"
  },
  "language_info": {
   "codemirror_mode": {
    "name": "ipython",
    "version": 3
   },
   "file_extension": ".py",
   "mimetype": "text/x-python",
   "name": "python",
   "nbconvert_exporter": "python",
   "pygments_lexer": "ipython3",
   "version": "3.11.2"
  }
 },
 "nbformat": 4,
 "nbformat_minor": 2
}
